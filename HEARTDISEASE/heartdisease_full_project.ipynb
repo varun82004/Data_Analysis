{
 "cells": [
  {
   "cell_type": "code",
   "execution_count": 1,
   "id": "d2d53c80-979c-4699-a2d3-904f8501b071",
   "metadata": {
    "tags": []
   },
   "outputs": [],
   "source": [
    "import pandas as pd\n",
    "import numpy as np\n",
    "import matplotlib.pyplot as plt\n",
    "%matplotlib inline\n",
    "import seaborn as sns\n",
    "from sklearn.preprocessing import StandardScaler\n",
    "from sklearn.model_selection import train_test_split\n",
    "from sklearn.svm import SVC \n",
    "from sklearn.model_selection import cross_val_score\n",
    "from sklearn.linear_model import LogisticRegression\n",
    "from sklearn.ensemble import RandomForestClassifier\n",
    "from sklearn.model_selection import GridSearchCV\n",
    "from sklearn.decomposition import PCA\n",
    "from imblearn.over_sampling import SMOTE\n",
    "from sklearn.preprocessing import LabelEncoder\n",
    "from sklearn.naive_bayes import GaussianNB\n",
    "from sklearn.metrics import accuracy_score, classification_report, confusion_matrix\n",
    "from xgboost import XGBClassifier\n",
    "from sklearn.neighbors import KNeighborsClassifier"
   ]
  },
  {
   "cell_type": "code",
   "execution_count": 2,
   "id": "1613b051-9173-43d9-98a3-42f696112795",
   "metadata": {},
   "outputs": [],
   "source": [
    "df = pd.read_csv('heart.csv')"
   ]
  },
  {
   "cell_type": "code",
   "execution_count": 3,
   "id": "ce6b3af1-52af-4894-b58a-3f32abe8013a",
   "metadata": {},
   "outputs": [
    {
     "data": {
      "text/html": [
       "<div>\n",
       "<style scoped>\n",
       "    .dataframe tbody tr th:only-of-type {\n",
       "        vertical-align: middle;\n",
       "    }\n",
       "\n",
       "    .dataframe tbody tr th {\n",
       "        vertical-align: top;\n",
       "    }\n",
       "\n",
       "    .dataframe thead th {\n",
       "        text-align: right;\n",
       "    }\n",
       "</style>\n",
       "<table border=\"1\" class=\"dataframe\">\n",
       "  <thead>\n",
       "    <tr style=\"text-align: right;\">\n",
       "      <th></th>\n",
       "      <th>Age</th>\n",
       "      <th>Sex</th>\n",
       "      <th>ChestPainType</th>\n",
       "      <th>RestingBP</th>\n",
       "      <th>Cholesterol</th>\n",
       "      <th>FastingBS</th>\n",
       "      <th>RestingECG</th>\n",
       "      <th>MaxHR</th>\n",
       "      <th>ExerciseAngina</th>\n",
       "      <th>Oldpeak</th>\n",
       "      <th>ST_Slope</th>\n",
       "      <th>HeartDisease</th>\n",
       "    </tr>\n",
       "  </thead>\n",
       "  <tbody>\n",
       "    <tr>\n",
       "      <th>0</th>\n",
       "      <td>40</td>\n",
       "      <td>M</td>\n",
       "      <td>ATA</td>\n",
       "      <td>140</td>\n",
       "      <td>289</td>\n",
       "      <td>0</td>\n",
       "      <td>Normal</td>\n",
       "      <td>172</td>\n",
       "      <td>N</td>\n",
       "      <td>0.0</td>\n",
       "      <td>Up</td>\n",
       "      <td>0</td>\n",
       "    </tr>\n",
       "    <tr>\n",
       "      <th>1</th>\n",
       "      <td>49</td>\n",
       "      <td>F</td>\n",
       "      <td>NAP</td>\n",
       "      <td>160</td>\n",
       "      <td>180</td>\n",
       "      <td>0</td>\n",
       "      <td>Normal</td>\n",
       "      <td>156</td>\n",
       "      <td>N</td>\n",
       "      <td>1.0</td>\n",
       "      <td>Flat</td>\n",
       "      <td>1</td>\n",
       "    </tr>\n",
       "    <tr>\n",
       "      <th>2</th>\n",
       "      <td>37</td>\n",
       "      <td>M</td>\n",
       "      <td>ATA</td>\n",
       "      <td>130</td>\n",
       "      <td>283</td>\n",
       "      <td>0</td>\n",
       "      <td>ST</td>\n",
       "      <td>98</td>\n",
       "      <td>N</td>\n",
       "      <td>0.0</td>\n",
       "      <td>Up</td>\n",
       "      <td>0</td>\n",
       "    </tr>\n",
       "    <tr>\n",
       "      <th>3</th>\n",
       "      <td>48</td>\n",
       "      <td>F</td>\n",
       "      <td>ASY</td>\n",
       "      <td>138</td>\n",
       "      <td>214</td>\n",
       "      <td>0</td>\n",
       "      <td>Normal</td>\n",
       "      <td>108</td>\n",
       "      <td>Y</td>\n",
       "      <td>1.5</td>\n",
       "      <td>Flat</td>\n",
       "      <td>1</td>\n",
       "    </tr>\n",
       "    <tr>\n",
       "      <th>4</th>\n",
       "      <td>54</td>\n",
       "      <td>M</td>\n",
       "      <td>NAP</td>\n",
       "      <td>150</td>\n",
       "      <td>195</td>\n",
       "      <td>0</td>\n",
       "      <td>Normal</td>\n",
       "      <td>122</td>\n",
       "      <td>N</td>\n",
       "      <td>0.0</td>\n",
       "      <td>Up</td>\n",
       "      <td>0</td>\n",
       "    </tr>\n",
       "  </tbody>\n",
       "</table>\n",
       "</div>"
      ],
      "text/plain": [
       "   Age Sex ChestPainType  RestingBP  Cholesterol  FastingBS RestingECG  MaxHR  \\\n",
       "0   40   M           ATA        140          289          0     Normal    172   \n",
       "1   49   F           NAP        160          180          0     Normal    156   \n",
       "2   37   M           ATA        130          283          0         ST     98   \n",
       "3   48   F           ASY        138          214          0     Normal    108   \n",
       "4   54   M           NAP        150          195          0     Normal    122   \n",
       "\n",
       "  ExerciseAngina  Oldpeak ST_Slope  HeartDisease  \n",
       "0              N      0.0       Up             0  \n",
       "1              N      1.0     Flat             1  \n",
       "2              N      0.0       Up             0  \n",
       "3              Y      1.5     Flat             1  \n",
       "4              N      0.0       Up             0  "
      ]
     },
     "execution_count": 3,
     "metadata": {},
     "output_type": "execute_result"
    }
   ],
   "source": [
    "df.head()"
   ]
  },
  {
   "cell_type": "code",
   "execution_count": 4,
   "id": "14554e43-d5ad-44f3-b378-7790737d17ec",
   "metadata": {},
   "outputs": [
    {
     "data": {
      "text/plain": [
       "(918, 12)"
      ]
     },
     "execution_count": 4,
     "metadata": {},
     "output_type": "execute_result"
    }
   ],
   "source": [
    "df.shape"
   ]
  },
  {
   "cell_type": "code",
   "execution_count": 5,
   "id": "d49abbd6-c61e-4429-b5a7-a8a4452ca73c",
   "metadata": {},
   "outputs": [
    {
     "data": {
      "text/html": [
       "<div>\n",
       "<style scoped>\n",
       "    .dataframe tbody tr th:only-of-type {\n",
       "        vertical-align: middle;\n",
       "    }\n",
       "\n",
       "    .dataframe tbody tr th {\n",
       "        vertical-align: top;\n",
       "    }\n",
       "\n",
       "    .dataframe thead th {\n",
       "        text-align: right;\n",
       "    }\n",
       "</style>\n",
       "<table border=\"1\" class=\"dataframe\">\n",
       "  <thead>\n",
       "    <tr style=\"text-align: right;\">\n",
       "      <th></th>\n",
       "      <th>Age</th>\n",
       "      <th>RestingBP</th>\n",
       "      <th>Cholesterol</th>\n",
       "      <th>FastingBS</th>\n",
       "      <th>MaxHR</th>\n",
       "      <th>Oldpeak</th>\n",
       "      <th>HeartDisease</th>\n",
       "    </tr>\n",
       "  </thead>\n",
       "  <tbody>\n",
       "    <tr>\n",
       "      <th>count</th>\n",
       "      <td>918.000000</td>\n",
       "      <td>918.000000</td>\n",
       "      <td>918.000000</td>\n",
       "      <td>918.000000</td>\n",
       "      <td>918.000000</td>\n",
       "      <td>918.000000</td>\n",
       "      <td>918.000000</td>\n",
       "    </tr>\n",
       "    <tr>\n",
       "      <th>mean</th>\n",
       "      <td>53.510893</td>\n",
       "      <td>132.396514</td>\n",
       "      <td>198.799564</td>\n",
       "      <td>0.233115</td>\n",
       "      <td>136.809368</td>\n",
       "      <td>0.887364</td>\n",
       "      <td>0.553377</td>\n",
       "    </tr>\n",
       "    <tr>\n",
       "      <th>std</th>\n",
       "      <td>9.432617</td>\n",
       "      <td>18.514154</td>\n",
       "      <td>109.384145</td>\n",
       "      <td>0.423046</td>\n",
       "      <td>25.460334</td>\n",
       "      <td>1.066570</td>\n",
       "      <td>0.497414</td>\n",
       "    </tr>\n",
       "    <tr>\n",
       "      <th>min</th>\n",
       "      <td>28.000000</td>\n",
       "      <td>0.000000</td>\n",
       "      <td>0.000000</td>\n",
       "      <td>0.000000</td>\n",
       "      <td>60.000000</td>\n",
       "      <td>-2.600000</td>\n",
       "      <td>0.000000</td>\n",
       "    </tr>\n",
       "    <tr>\n",
       "      <th>25%</th>\n",
       "      <td>47.000000</td>\n",
       "      <td>120.000000</td>\n",
       "      <td>173.250000</td>\n",
       "      <td>0.000000</td>\n",
       "      <td>120.000000</td>\n",
       "      <td>0.000000</td>\n",
       "      <td>0.000000</td>\n",
       "    </tr>\n",
       "    <tr>\n",
       "      <th>50%</th>\n",
       "      <td>54.000000</td>\n",
       "      <td>130.000000</td>\n",
       "      <td>223.000000</td>\n",
       "      <td>0.000000</td>\n",
       "      <td>138.000000</td>\n",
       "      <td>0.600000</td>\n",
       "      <td>1.000000</td>\n",
       "    </tr>\n",
       "    <tr>\n",
       "      <th>75%</th>\n",
       "      <td>60.000000</td>\n",
       "      <td>140.000000</td>\n",
       "      <td>267.000000</td>\n",
       "      <td>0.000000</td>\n",
       "      <td>156.000000</td>\n",
       "      <td>1.500000</td>\n",
       "      <td>1.000000</td>\n",
       "    </tr>\n",
       "    <tr>\n",
       "      <th>max</th>\n",
       "      <td>77.000000</td>\n",
       "      <td>200.000000</td>\n",
       "      <td>603.000000</td>\n",
       "      <td>1.000000</td>\n",
       "      <td>202.000000</td>\n",
       "      <td>6.200000</td>\n",
       "      <td>1.000000</td>\n",
       "    </tr>\n",
       "  </tbody>\n",
       "</table>\n",
       "</div>"
      ],
      "text/plain": [
       "              Age   RestingBP  Cholesterol   FastingBS       MaxHR  \\\n",
       "count  918.000000  918.000000   918.000000  918.000000  918.000000   \n",
       "mean    53.510893  132.396514   198.799564    0.233115  136.809368   \n",
       "std      9.432617   18.514154   109.384145    0.423046   25.460334   \n",
       "min     28.000000    0.000000     0.000000    0.000000   60.000000   \n",
       "25%     47.000000  120.000000   173.250000    0.000000  120.000000   \n",
       "50%     54.000000  130.000000   223.000000    0.000000  138.000000   \n",
       "75%     60.000000  140.000000   267.000000    0.000000  156.000000   \n",
       "max     77.000000  200.000000   603.000000    1.000000  202.000000   \n",
       "\n",
       "          Oldpeak  HeartDisease  \n",
       "count  918.000000    918.000000  \n",
       "mean     0.887364      0.553377  \n",
       "std      1.066570      0.497414  \n",
       "min     -2.600000      0.000000  \n",
       "25%      0.000000      0.000000  \n",
       "50%      0.600000      1.000000  \n",
       "75%      1.500000      1.000000  \n",
       "max      6.200000      1.000000  "
      ]
     },
     "execution_count": 5,
     "metadata": {},
     "output_type": "execute_result"
    }
   ],
   "source": [
    "df.describe()"
   ]
  },
  {
   "cell_type": "code",
   "execution_count": 6,
   "id": "f25282c9-b6de-411e-9d4d-24d28741d50a",
   "metadata": {},
   "outputs": [
    {
     "data": {
      "text/plain": [
       "['Age', 'RestingBP', 'Cholesterol', 'FastingBS', 'MaxHR', 'Oldpeak']"
      ]
     },
     "execution_count": 6,
     "metadata": {},
     "output_type": "execute_result"
    }
   ],
   "source": [
    "col = ['Age','RestingBP','Cholesterol','FastingBS','MaxHR','Oldpeak']\n",
    "col"
   ]
  },
  {
   "cell_type": "code",
   "execution_count": 7,
   "id": "fce0ed95-68f7-4bc9-ae47-ee0f6061c967",
   "metadata": {},
   "outputs": [
    {
     "data": {
      "text/plain": [
       "<AxesSubplot: xlabel='HeartDisease', ylabel='count'>"
      ]
     },
     "execution_count": 7,
     "metadata": {},
     "output_type": "execute_result"
    },
    {
     "data": {
      "image/png": "[encoded data removed]",
      "text/plain": [
       "<Figure size 640x480 with 1 Axes>"
      ]
     },
     "metadata": {},
     "output_type": "display_data"
    }
   ],
   "source": [
    "sns.countplot(x='HeartDisease', data=df)"
   ]
  },
  {
   "cell_type": "code",
   "execution_count": 8,
   "id": "125c27b8-e644-47cd-832b-c6897a815961",
   "metadata": {},
   "outputs": [
    {
     "data": {
      "text/html": [
       "<div>\n",
       "<style scoped>\n",
       "    .dataframe tbody tr th:only-of-type {\n",
       "        vertical-align: middle;\n",
       "    }\n",
       "\n",
       "    .dataframe tbody tr th {\n",
       "        vertical-align: top;\n",
       "    }\n",
       "\n",
       "    .dataframe thead th {\n",
       "        text-align: right;\n",
       "    }\n",
       "</style>\n",
       "<table border=\"1\" class=\"dataframe\">\n",
       "  <thead>\n",
       "    <tr style=\"text-align: right;\">\n",
       "      <th></th>\n",
       "      <th>Age</th>\n",
       "      <th>Sex</th>\n",
       "      <th>ChestPainType</th>\n",
       "      <th>RestingBP</th>\n",
       "      <th>Cholesterol</th>\n",
       "      <th>FastingBS</th>\n",
       "      <th>RestingECG</th>\n",
       "      <th>MaxHR</th>\n",
       "      <th>ExerciseAngina</th>\n",
       "      <th>Oldpeak</th>\n",
       "      <th>ST_Slope</th>\n",
       "      <th>HeartDisease</th>\n",
       "    </tr>\n",
       "  </thead>\n",
       "  <tbody>\n",
       "    <tr>\n",
       "      <th>0</th>\n",
       "      <td>40</td>\n",
       "      <td>M</td>\n",
       "      <td>ATA</td>\n",
       "      <td>140</td>\n",
       "      <td>289</td>\n",
       "      <td>0</td>\n",
       "      <td>Normal</td>\n",
       "      <td>172</td>\n",
       "      <td>N</td>\n",
       "      <td>0.0</td>\n",
       "      <td>Up</td>\n",
       "      <td>0</td>\n",
       "    </tr>\n",
       "    <tr>\n",
       "      <th>1</th>\n",
       "      <td>49</td>\n",
       "      <td>F</td>\n",
       "      <td>NAP</td>\n",
       "      <td>160</td>\n",
       "      <td>180</td>\n",
       "      <td>0</td>\n",
       "      <td>Normal</td>\n",
       "      <td>156</td>\n",
       "      <td>N</td>\n",
       "      <td>1.0</td>\n",
       "      <td>Flat</td>\n",
       "      <td>1</td>\n",
       "    </tr>\n",
       "    <tr>\n",
       "      <th>2</th>\n",
       "      <td>37</td>\n",
       "      <td>M</td>\n",
       "      <td>ATA</td>\n",
       "      <td>130</td>\n",
       "      <td>283</td>\n",
       "      <td>0</td>\n",
       "      <td>ST</td>\n",
       "      <td>98</td>\n",
       "      <td>N</td>\n",
       "      <td>0.0</td>\n",
       "      <td>Up</td>\n",
       "      <td>0</td>\n",
       "    </tr>\n",
       "    <tr>\n",
       "      <th>3</th>\n",
       "      <td>48</td>\n",
       "      <td>F</td>\n",
       "      <td>ASY</td>\n",
       "      <td>138</td>\n",
       "      <td>214</td>\n",
       "      <td>0</td>\n",
       "      <td>Normal</td>\n",
       "      <td>108</td>\n",
       "      <td>Y</td>\n",
       "      <td>1.5</td>\n",
       "      <td>Flat</td>\n",
       "      <td>1</td>\n",
       "    </tr>\n",
       "    <tr>\n",
       "      <th>4</th>\n",
       "      <td>54</td>\n",
       "      <td>M</td>\n",
       "      <td>NAP</td>\n",
       "      <td>150</td>\n",
       "      <td>195</td>\n",
       "      <td>0</td>\n",
       "      <td>Normal</td>\n",
       "      <td>122</td>\n",
       "      <td>N</td>\n",
       "      <td>0.0</td>\n",
       "      <td>Up</td>\n",
       "      <td>0</td>\n",
       "    </tr>\n",
       "  </tbody>\n",
       "</table>\n",
       "</div>"
      ],
      "text/plain": [
       "   Age Sex ChestPainType  RestingBP  Cholesterol  FastingBS RestingECG  MaxHR  \\\n",
       "0   40   M           ATA        140          289          0     Normal    172   \n",
       "1   49   F           NAP        160          180          0     Normal    156   \n",
       "2   37   M           ATA        130          283          0         ST     98   \n",
       "3   48   F           ASY        138          214          0     Normal    108   \n",
       "4   54   M           NAP        150          195          0     Normal    122   \n",
       "\n",
       "  ExerciseAngina  Oldpeak ST_Slope  HeartDisease  \n",
       "0              N      0.0       Up             0  \n",
       "1              N      1.0     Flat             1  \n",
       "2              N      0.0       Up             0  \n",
       "3              Y      1.5     Flat             1  \n",
       "4              N      0.0       Up             0  "
      ]
     },
     "execution_count": 8,
     "metadata": {},
     "output_type": "execute_result"
    }
   ],
   "source": [
    "df.head()"
   ]
  },
  {
   "cell_type": "code",
   "execution_count": 9,
   "id": "0d4a6714-805d-478a-ae18-0d2e7bf8fc35",
   "metadata": {},
   "outputs": [
    {
     "name": "stdout",
     "output_type": "stream",
     "text": [
      "Age                 int64\n",
      "Sex                object\n",
      "ChestPainType      object\n",
      "RestingBP           int64\n",
      "Cholesterol         int64\n",
      "FastingBS           int64\n",
      "RestingECG         object\n",
      "MaxHR               int64\n",
      "ExerciseAngina     object\n",
      "Oldpeak           float64\n",
      "ST_Slope           object\n",
      "HeartDisease        int64\n",
      "dtype: object\n"
     ]
    }
   ],
   "source": [
    "print(df.dtypes)"
   ]
  },
  {
   "cell_type": "code",
   "execution_count": 10,
   "id": "6c7ab3d7-efd9-4421-9280-80abb66a2768",
   "metadata": {},
   "outputs": [],
   "source": [
    "label_encoders = {}\n",
    "\n",
    "for column in df.columns:\n",
    "    if df[column].dtype.name == 'object':\n",
    "        le = LabelEncoder()\n",
    "        df[column] = le.fit_transform(df[column])\n",
    "        label_encoders[column] = le"
   ]
  },
  {
   "cell_type": "code",
   "execution_count": 11,
   "id": "db048e1f-27db-481b-bcae-6c51857cdab6",
   "metadata": {},
   "outputs": [
    {
     "data": {
      "text/html": [
       "<div>\n",
       "<style scoped>\n",
       "    .dataframe tbody tr th:only-of-type {\n",
       "        vertical-align: middle;\n",
       "    }\n",
       "\n",
       "    .dataframe tbody tr th {\n",
       "        vertical-align: top;\n",
       "    }\n",
       "\n",
       "    .dataframe thead th {\n",
       "        text-align: right;\n",
       "    }\n",
       "</style>\n",
       "<table border=\"1\" class=\"dataframe\">\n",
       "  <thead>\n",
       "    <tr style=\"text-align: right;\">\n",
       "      <th></th>\n",
       "      <th>Age</th>\n",
       "      <th>Sex</th>\n",
       "      <th>ChestPainType</th>\n",
       "      <th>RestingBP</th>\n",
       "      <th>Cholesterol</th>\n",
       "      <th>FastingBS</th>\n",
       "      <th>RestingECG</th>\n",
       "      <th>MaxHR</th>\n",
       "      <th>ExerciseAngina</th>\n",
       "      <th>Oldpeak</th>\n",
       "      <th>ST_Slope</th>\n",
       "      <th>HeartDisease</th>\n",
       "    </tr>\n",
       "  </thead>\n",
       "  <tbody>\n",
       "    <tr>\n",
       "      <th>0</th>\n",
       "      <td>40</td>\n",
       "      <td>1</td>\n",
       "      <td>1</td>\n",
       "      <td>140</td>\n",
       "      <td>289</td>\n",
       "      <td>0</td>\n",
       "      <td>1</td>\n",
       "      <td>172</td>\n",
       "      <td>0</td>\n",
       "      <td>0.0</td>\n",
       "      <td>2</td>\n",
       "      <td>0</td>\n",
       "    </tr>\n",
       "    <tr>\n",
       "      <th>1</th>\n",
       "      <td>49</td>\n",
       "      <td>0</td>\n",
       "      <td>2</td>\n",
       "      <td>160</td>\n",
       "      <td>180</td>\n",
       "      <td>0</td>\n",
       "      <td>1</td>\n",
       "      <td>156</td>\n",
       "      <td>0</td>\n",
       "      <td>1.0</td>\n",
       "      <td>1</td>\n",
       "      <td>1</td>\n",
       "    </tr>\n",
       "    <tr>\n",
       "      <th>2</th>\n",
       "      <td>37</td>\n",
       "      <td>1</td>\n",
       "      <td>1</td>\n",
       "      <td>130</td>\n",
       "      <td>283</td>\n",
       "      <td>0</td>\n",
       "      <td>2</td>\n",
       "      <td>98</td>\n",
       "      <td>0</td>\n",
       "      <td>0.0</td>\n",
       "      <td>2</td>\n",
       "      <td>0</td>\n",
       "    </tr>\n",
       "    <tr>\n",
       "      <th>3</th>\n",
       "      <td>48</td>\n",
       "      <td>0</td>\n",
       "      <td>0</td>\n",
       "      <td>138</td>\n",
       "      <td>214</td>\n",
       "      <td>0</td>\n",
       "      <td>1</td>\n",
       "      <td>108</td>\n",
       "      <td>1</td>\n",
       "      <td>1.5</td>\n",
       "      <td>1</td>\n",
       "      <td>1</td>\n",
       "    </tr>\n",
       "    <tr>\n",
       "      <th>4</th>\n",
       "      <td>54</td>\n",
       "      <td>1</td>\n",
       "      <td>2</td>\n",
       "      <td>150</td>\n",
       "      <td>195</td>\n",
       "      <td>0</td>\n",
       "      <td>1</td>\n",
       "      <td>122</td>\n",
       "      <td>0</td>\n",
       "      <td>0.0</td>\n",
       "      <td>2</td>\n",
       "      <td>0</td>\n",
       "    </tr>\n",
       "  </tbody>\n",
       "</table>\n",
       "</div>"
      ],
      "text/plain": [
       "   Age  Sex  ChestPainType  RestingBP  Cholesterol  FastingBS  RestingECG  \\\n",
       "0   40    1              1        140          289          0           1   \n",
       "1   49    0              2        160          180          0           1   \n",
       "2   37    1              1        130          283          0           2   \n",
       "3   48    0              0        138          214          0           1   \n",
       "4   54    1              2        150          195          0           1   \n",
       "\n",
       "   MaxHR  ExerciseAngina  Oldpeak  ST_Slope  HeartDisease  \n",
       "0    172               0      0.0         2             0  \n",
       "1    156               0      1.0         1             1  \n",
       "2     98               0      0.0         2             0  \n",
       "3    108               1      1.5         1             1  \n",
       "4    122               0      0.0         2             0  "
      ]
     },
     "execution_count": 11,
     "metadata": {},
     "output_type": "execute_result"
    }
   ],
   "source": [
    "df.head()"
   ]
  },
  {
   "cell_type": "code",
   "execution_count": 12,
   "id": "5921ee7e-5a5e-4022-bb05-ac6ce375eacd",
   "metadata": {},
   "outputs": [],
   "source": [
    "smote = SMOTE(random_state=42)\n",
    "X = df.drop(['HeartDisease'],axis=1)\n",
    "y = df['HeartDisease']\n",
    "X_res, y_res = smote.fit_resample(X, y)"
   ]
  },
  {
   "cell_type": "code",
   "execution_count": 13,
   "id": "d7e77a6c-9db3-45b1-b7b1-db966b8bd53f",
   "metadata": {},
   "outputs": [],
   "source": [
    "y_res_df = pd.DataFrame(y_res, columns=['HeartDisease'])\n",
    "df_resampled = pd.concat([X_res, y_res_df], axis=1)"
   ]
  },
  {
   "cell_type": "code",
   "execution_count": 14,
   "id": "88fdc57f-a191-4ac3-9d36-c76e35346597",
   "metadata": {},
   "outputs": [
    {
     "data": {
      "text/plain": [
       "0       0\n",
       "1       1\n",
       "2       0\n",
       "3       1\n",
       "4       0\n",
       "       ..\n",
       "1011    0\n",
       "1012    0\n",
       "1013    0\n",
       "1014    0\n",
       "1015    0\n",
       "Name: HeartDisease, Length: 1016, dtype: int64"
      ]
     },
     "execution_count": 14,
     "metadata": {},
     "output_type": "execute_result"
    }
   ],
   "source": [
    "df_resampled[\"HeartDisease\"]"
   ]
  },
  {
   "cell_type": "code",
   "execution_count": 15,
   "id": "657be2a4-b00e-4033-b5ee-0726d690dd63",
   "metadata": {},
   "outputs": [],
   "source": [
    "df = df_resampled.copy()"
   ]
  },
  {
   "cell_type": "markdown",
   "id": "72e15ffe-9424-481d-ab65-c2ebb9c8dcfd",
   "metadata": {},
   "source": [
    "### Calculating z-score"
   ]
  },
  {
   "cell_type": "code",
   "execution_count": 16,
   "id": "a2b26f1c-cb14-43fd-94c2-16f2076ebbd4",
   "metadata": {},
   "outputs": [],
   "source": [
    "col_mean = df[col].mean()\n",
    "col_std = df[col].std()\n",
    "\n",
    "z_score = (df[col] - col_mean)/col_std\n",
    "\n",
    "z_threshold = 3"
   ]
  },
  {
   "cell_type": "code",
   "execution_count": 17,
   "id": "1d812046-6663-4844-8a14-c211a2ad80b4",
   "metadata": {},
   "outputs": [
    {
     "data": {
      "text/html": [
       "<div>\n",
       "<style scoped>\n",
       "    .dataframe tbody tr th:only-of-type {\n",
       "        vertical-align: middle;\n",
       "    }\n",
       "\n",
       "    .dataframe tbody tr th {\n",
       "        vertical-align: top;\n",
       "    }\n",
       "\n",
       "    .dataframe thead th {\n",
       "        text-align: right;\n",
       "    }\n",
       "</style>\n",
       "<table border=\"1\" class=\"dataframe\">\n",
       "  <thead>\n",
       "    <tr style=\"text-align: right;\">\n",
       "      <th></th>\n",
       "      <th>Age</th>\n",
       "      <th>Sex</th>\n",
       "      <th>ChestPainType</th>\n",
       "      <th>RestingBP</th>\n",
       "      <th>Cholesterol</th>\n",
       "      <th>FastingBS</th>\n",
       "      <th>RestingECG</th>\n",
       "      <th>MaxHR</th>\n",
       "      <th>ExerciseAngina</th>\n",
       "      <th>Oldpeak</th>\n",
       "      <th>ST_Slope</th>\n",
       "      <th>HeartDisease</th>\n",
       "    </tr>\n",
       "  </thead>\n",
       "  <tbody>\n",
       "    <tr>\n",
       "      <th>0</th>\n",
       "      <td>40</td>\n",
       "      <td>1</td>\n",
       "      <td>1</td>\n",
       "      <td>140</td>\n",
       "      <td>289</td>\n",
       "      <td>0</td>\n",
       "      <td>1</td>\n",
       "      <td>172</td>\n",
       "      <td>0</td>\n",
       "      <td>0.0</td>\n",
       "      <td>2</td>\n",
       "      <td>0</td>\n",
       "    </tr>\n",
       "    <tr>\n",
       "      <th>1</th>\n",
       "      <td>49</td>\n",
       "      <td>0</td>\n",
       "      <td>2</td>\n",
       "      <td>160</td>\n",
       "      <td>180</td>\n",
       "      <td>0</td>\n",
       "      <td>1</td>\n",
       "      <td>156</td>\n",
       "      <td>0</td>\n",
       "      <td>1.0</td>\n",
       "      <td>1</td>\n",
       "      <td>1</td>\n",
       "    </tr>\n",
       "    <tr>\n",
       "      <th>2</th>\n",
       "      <td>37</td>\n",
       "      <td>1</td>\n",
       "      <td>1</td>\n",
       "      <td>130</td>\n",
       "      <td>283</td>\n",
       "      <td>0</td>\n",
       "      <td>2</td>\n",
       "      <td>98</td>\n",
       "      <td>0</td>\n",
       "      <td>0.0</td>\n",
       "      <td>2</td>\n",
       "      <td>0</td>\n",
       "    </tr>\n",
       "    <tr>\n",
       "      <th>3</th>\n",
       "      <td>48</td>\n",
       "      <td>0</td>\n",
       "      <td>0</td>\n",
       "      <td>138</td>\n",
       "      <td>214</td>\n",
       "      <td>0</td>\n",
       "      <td>1</td>\n",
       "      <td>108</td>\n",
       "      <td>1</td>\n",
       "      <td>1.5</td>\n",
       "      <td>1</td>\n",
       "      <td>1</td>\n",
       "    </tr>\n",
       "    <tr>\n",
       "      <th>4</th>\n",
       "      <td>54</td>\n",
       "      <td>1</td>\n",
       "      <td>2</td>\n",
       "      <td>150</td>\n",
       "      <td>195</td>\n",
       "      <td>0</td>\n",
       "      <td>1</td>\n",
       "      <td>122</td>\n",
       "      <td>0</td>\n",
       "      <td>0.0</td>\n",
       "      <td>2</td>\n",
       "      <td>0</td>\n",
       "    </tr>\n",
       "  </tbody>\n",
       "</table>\n",
       "</div>"
      ],
      "text/plain": [
       "   Age  Sex  ChestPainType  RestingBP  Cholesterol  FastingBS  RestingECG  \\\n",
       "0   40    1              1        140          289          0           1   \n",
       "1   49    0              2        160          180          0           1   \n",
       "2   37    1              1        130          283          0           2   \n",
       "3   48    0              0        138          214          0           1   \n",
       "4   54    1              2        150          195          0           1   \n",
       "\n",
       "   MaxHR  ExerciseAngina  Oldpeak  ST_Slope  HeartDisease  \n",
       "0    172               0      0.0         2             0  \n",
       "1    156               0      1.0         1             1  \n",
       "2     98               0      0.0         2             0  \n",
       "3    108               1      1.5         1             1  \n",
       "4    122               0      0.0         2             0  "
      ]
     },
     "execution_count": 17,
     "metadata": {},
     "output_type": "execute_result"
    }
   ],
   "source": [
    "newdf = df\n",
    "newdf.head()"
   ]
  },
  {
   "cell_type": "code",
   "execution_count": 18,
   "id": "321adf96-0765-4ca4-8385-2f0bdc7cca69",
   "metadata": {},
   "outputs": [],
   "source": [
    "for i in z_score:\n",
    "    newdf['Z_score'+str(i)]=z_score[i]"
   ]
  },
  {
   "cell_type": "code",
   "execution_count": 19,
   "id": "01d70c15-8f90-40dd-8747-4272ba46785e",
   "metadata": {},
   "outputs": [
    {
     "data": {
      "text/html": [
       "<div>\n",
       "<style scoped>\n",
       "    .dataframe tbody tr th:only-of-type {\n",
       "        vertical-align: middle;\n",
       "    }\n",
       "\n",
       "    .dataframe tbody tr th {\n",
       "        vertical-align: top;\n",
       "    }\n",
       "\n",
       "    .dataframe thead th {\n",
       "        text-align: right;\n",
       "    }\n",
       "</style>\n",
       "<table border=\"1\" class=\"dataframe\">\n",
       "  <thead>\n",
       "    <tr style=\"text-align: right;\">\n",
       "      <th></th>\n",
       "      <th>Age</th>\n",
       "      <th>Sex</th>\n",
       "      <th>ChestPainType</th>\n",
       "      <th>RestingBP</th>\n",
       "      <th>Cholesterol</th>\n",
       "      <th>FastingBS</th>\n",
       "      <th>RestingECG</th>\n",
       "      <th>MaxHR</th>\n",
       "      <th>ExerciseAngina</th>\n",
       "      <th>Oldpeak</th>\n",
       "      <th>ST_Slope</th>\n",
       "      <th>HeartDisease</th>\n",
       "      <th>Z_scoreAge</th>\n",
       "      <th>Z_scoreRestingBP</th>\n",
       "      <th>Z_scoreCholesterol</th>\n",
       "      <th>Z_scoreFastingBS</th>\n",
       "      <th>Z_scoreMaxHR</th>\n",
       "      <th>Z_scoreOldpeak</th>\n",
       "    </tr>\n",
       "  </thead>\n",
       "  <tbody>\n",
       "    <tr>\n",
       "      <th>0</th>\n",
       "      <td>40</td>\n",
       "      <td>1</td>\n",
       "      <td>1</td>\n",
       "      <td>140</td>\n",
       "      <td>289</td>\n",
       "      <td>0</td>\n",
       "      <td>1</td>\n",
       "      <td>172</td>\n",
       "      <td>0</td>\n",
       "      <td>0.0</td>\n",
       "      <td>2</td>\n",
       "      <td>0</td>\n",
       "      <td>-1.418017</td>\n",
       "      <td>0.432091</td>\n",
       "      <td>0.826489</td>\n",
       "      <td>-0.519359</td>\n",
       "      <td>1.345887</td>\n",
       "      <td>-0.808628</td>\n",
       "    </tr>\n",
       "    <tr>\n",
       "      <th>1</th>\n",
       "      <td>49</td>\n",
       "      <td>0</td>\n",
       "      <td>2</td>\n",
       "      <td>160</td>\n",
       "      <td>180</td>\n",
       "      <td>0</td>\n",
       "      <td>1</td>\n",
       "      <td>156</td>\n",
       "      <td>0</td>\n",
       "      <td>1.0</td>\n",
       "      <td>1</td>\n",
       "      <td>1</td>\n",
       "      <td>-0.451173</td>\n",
       "      <td>1.535673</td>\n",
       "      <td>-0.192750</td>\n",
       "      <td>-0.519359</td>\n",
       "      <td>0.719330</td>\n",
       "      <td>0.153618</td>\n",
       "    </tr>\n",
       "    <tr>\n",
       "      <th>2</th>\n",
       "      <td>37</td>\n",
       "      <td>1</td>\n",
       "      <td>1</td>\n",
       "      <td>130</td>\n",
       "      <td>283</td>\n",
       "      <td>0</td>\n",
       "      <td>2</td>\n",
       "      <td>98</td>\n",
       "      <td>0</td>\n",
       "      <td>0.0</td>\n",
       "      <td>2</td>\n",
       "      <td>0</td>\n",
       "      <td>-1.740299</td>\n",
       "      <td>-0.119699</td>\n",
       "      <td>0.770384</td>\n",
       "      <td>-0.519359</td>\n",
       "      <td>-1.551939</td>\n",
       "      <td>-0.808628</td>\n",
       "    </tr>\n",
       "    <tr>\n",
       "      <th>3</th>\n",
       "      <td>48</td>\n",
       "      <td>0</td>\n",
       "      <td>0</td>\n",
       "      <td>138</td>\n",
       "      <td>214</td>\n",
       "      <td>0</td>\n",
       "      <td>1</td>\n",
       "      <td>108</td>\n",
       "      <td>1</td>\n",
       "      <td>1.5</td>\n",
       "      <td>1</td>\n",
       "      <td>1</td>\n",
       "      <td>-0.558600</td>\n",
       "      <td>0.321733</td>\n",
       "      <td>0.125178</td>\n",
       "      <td>-0.519359</td>\n",
       "      <td>-1.160341</td>\n",
       "      <td>0.634740</td>\n",
       "    </tr>\n",
       "    <tr>\n",
       "      <th>4</th>\n",
       "      <td>54</td>\n",
       "      <td>1</td>\n",
       "      <td>2</td>\n",
       "      <td>150</td>\n",
       "      <td>195</td>\n",
       "      <td>0</td>\n",
       "      <td>1</td>\n",
       "      <td>122</td>\n",
       "      <td>0</td>\n",
       "      <td>0.0</td>\n",
       "      <td>2</td>\n",
       "      <td>0</td>\n",
       "      <td>0.085963</td>\n",
       "      <td>0.983882</td>\n",
       "      <td>-0.052488</td>\n",
       "      <td>-0.519359</td>\n",
       "      <td>-0.612103</td>\n",
       "      <td>-0.808628</td>\n",
       "    </tr>\n",
       "  </tbody>\n",
       "</table>\n",
       "</div>"
      ],
      "text/plain": [
       "   Age  Sex  ChestPainType  RestingBP  Cholesterol  FastingBS  RestingECG  \\\n",
       "0   40    1              1        140          289          0           1   \n",
       "1   49    0              2        160          180          0           1   \n",
       "2   37    1              1        130          283          0           2   \n",
       "3   48    0              0        138          214          0           1   \n",
       "4   54    1              2        150          195          0           1   \n",
       "\n",
       "   MaxHR  ExerciseAngina  Oldpeak  ST_Slope  HeartDisease  Z_scoreAge  \\\n",
       "0    172               0      0.0         2             0   -1.418017   \n",
       "1    156               0      1.0         1             1   -0.451173   \n",
       "2     98               0      0.0         2             0   -1.740299   \n",
       "3    108               1      1.5         1             1   -0.558600   \n",
       "4    122               0      0.0         2             0    0.085963   \n",
       "\n",
       "   Z_scoreRestingBP  Z_scoreCholesterol  Z_scoreFastingBS  Z_scoreMaxHR  \\\n",
       "0          0.432091            0.826489         -0.519359      1.345887   \n",
       "1          1.535673           -0.192750         -0.519359      0.719330   \n",
       "2         -0.119699            0.770384         -0.519359     -1.551939   \n",
       "3          0.321733            0.125178         -0.519359     -1.160341   \n",
       "4          0.983882           -0.052488         -0.519359     -0.612103   \n",
       "\n",
       "   Z_scoreOldpeak  \n",
       "0       -0.808628  \n",
       "1        0.153618  \n",
       "2       -0.808628  \n",
       "3        0.634740  \n",
       "4       -0.808628  "
      ]
     },
     "execution_count": 19,
     "metadata": {},
     "output_type": "execute_result"
    }
   ],
   "source": [
    "newdf.head()"
   ]
  },
  {
   "cell_type": "markdown",
   "id": "1c310583-fbe2-4a97-9c5d-96771c72e950",
   "metadata": {},
   "source": [
    "### Removing the outlier with the threshold of z-score greater than 3"
   ]
  },
  {
   "cell_type": "code",
   "execution_count": 20,
   "id": "37840796-3d5d-4c1f-9e66-d27ed3124eca",
   "metadata": {},
   "outputs": [],
   "source": [
    "outliers = np.any(np.abs(z_score) > z_threshold,axis=1)\n",
    "df1 = df[~outliers]"
   ]
  },
  {
   "cell_type": "code",
   "execution_count": 21,
   "id": "39b1479c-d877-41b9-a4b0-53d94e5517d5",
   "metadata": {},
   "outputs": [
    {
     "data": {
      "text/html": [
       "<div>\n",
       "<style scoped>\n",
       "    .dataframe tbody tr th:only-of-type {\n",
       "        vertical-align: middle;\n",
       "    }\n",
       "\n",
       "    .dataframe tbody tr th {\n",
       "        vertical-align: top;\n",
       "    }\n",
       "\n",
       "    .dataframe thead th {\n",
       "        text-align: right;\n",
       "    }\n",
       "</style>\n",
       "<table border=\"1\" class=\"dataframe\">\n",
       "  <thead>\n",
       "    <tr style=\"text-align: right;\">\n",
       "      <th></th>\n",
       "      <th>Age</th>\n",
       "      <th>Sex</th>\n",
       "      <th>ChestPainType</th>\n",
       "      <th>RestingBP</th>\n",
       "      <th>Cholesterol</th>\n",
       "      <th>FastingBS</th>\n",
       "      <th>RestingECG</th>\n",
       "      <th>MaxHR</th>\n",
       "      <th>ExerciseAngina</th>\n",
       "      <th>Oldpeak</th>\n",
       "      <th>ST_Slope</th>\n",
       "      <th>HeartDisease</th>\n",
       "      <th>Z_scoreAge</th>\n",
       "      <th>Z_scoreRestingBP</th>\n",
       "      <th>Z_scoreCholesterol</th>\n",
       "      <th>Z_scoreFastingBS</th>\n",
       "      <th>Z_scoreMaxHR</th>\n",
       "      <th>Z_scoreOldpeak</th>\n",
       "    </tr>\n",
       "  </thead>\n",
       "  <tbody>\n",
       "    <tr>\n",
       "      <th>0</th>\n",
       "      <td>40</td>\n",
       "      <td>1</td>\n",
       "      <td>1</td>\n",
       "      <td>140</td>\n",
       "      <td>289</td>\n",
       "      <td>0</td>\n",
       "      <td>1</td>\n",
       "      <td>172</td>\n",
       "      <td>0</td>\n",
       "      <td>0.000000</td>\n",
       "      <td>2</td>\n",
       "      <td>0</td>\n",
       "      <td>-1.418017</td>\n",
       "      <td>0.432091</td>\n",
       "      <td>0.826489</td>\n",
       "      <td>-0.519359</td>\n",
       "      <td>1.345887</td>\n",
       "      <td>-0.808628</td>\n",
       "    </tr>\n",
       "    <tr>\n",
       "      <th>1</th>\n",
       "      <td>49</td>\n",
       "      <td>0</td>\n",
       "      <td>2</td>\n",
       "      <td>160</td>\n",
       "      <td>180</td>\n",
       "      <td>0</td>\n",
       "      <td>1</td>\n",
       "      <td>156</td>\n",
       "      <td>0</td>\n",
       "      <td>1.000000</td>\n",
       "      <td>1</td>\n",
       "      <td>1</td>\n",
       "      <td>-0.451173</td>\n",
       "      <td>1.535673</td>\n",
       "      <td>-0.192750</td>\n",
       "      <td>-0.519359</td>\n",
       "      <td>0.719330</td>\n",
       "      <td>0.153618</td>\n",
       "    </tr>\n",
       "    <tr>\n",
       "      <th>2</th>\n",
       "      <td>37</td>\n",
       "      <td>1</td>\n",
       "      <td>1</td>\n",
       "      <td>130</td>\n",
       "      <td>283</td>\n",
       "      <td>0</td>\n",
       "      <td>2</td>\n",
       "      <td>98</td>\n",
       "      <td>0</td>\n",
       "      <td>0.000000</td>\n",
       "      <td>2</td>\n",
       "      <td>0</td>\n",
       "      <td>-1.740299</td>\n",
       "      <td>-0.119699</td>\n",
       "      <td>0.770384</td>\n",
       "      <td>-0.519359</td>\n",
       "      <td>-1.551939</td>\n",
       "      <td>-0.808628</td>\n",
       "    </tr>\n",
       "    <tr>\n",
       "      <th>3</th>\n",
       "      <td>48</td>\n",
       "      <td>0</td>\n",
       "      <td>0</td>\n",
       "      <td>138</td>\n",
       "      <td>214</td>\n",
       "      <td>0</td>\n",
       "      <td>1</td>\n",
       "      <td>108</td>\n",
       "      <td>1</td>\n",
       "      <td>1.500000</td>\n",
       "      <td>1</td>\n",
       "      <td>1</td>\n",
       "      <td>-0.558600</td>\n",
       "      <td>0.321733</td>\n",
       "      <td>0.125178</td>\n",
       "      <td>-0.519359</td>\n",
       "      <td>-1.160341</td>\n",
       "      <td>0.634740</td>\n",
       "    </tr>\n",
       "    <tr>\n",
       "      <th>4</th>\n",
       "      <td>54</td>\n",
       "      <td>1</td>\n",
       "      <td>2</td>\n",
       "      <td>150</td>\n",
       "      <td>195</td>\n",
       "      <td>0</td>\n",
       "      <td>1</td>\n",
       "      <td>122</td>\n",
       "      <td>0</td>\n",
       "      <td>0.000000</td>\n",
       "      <td>2</td>\n",
       "      <td>0</td>\n",
       "      <td>0.085963</td>\n",
       "      <td>0.983882</td>\n",
       "      <td>-0.052488</td>\n",
       "      <td>-0.519359</td>\n",
       "      <td>-0.612103</td>\n",
       "      <td>-0.808628</td>\n",
       "    </tr>\n",
       "    <tr>\n",
       "      <th>...</th>\n",
       "      <td>...</td>\n",
       "      <td>...</td>\n",
       "      <td>...</td>\n",
       "      <td>...</td>\n",
       "      <td>...</td>\n",
       "      <td>...</td>\n",
       "      <td>...</td>\n",
       "      <td>...</td>\n",
       "      <td>...</td>\n",
       "      <td>...</td>\n",
       "      <td>...</td>\n",
       "      <td>...</td>\n",
       "      <td>...</td>\n",
       "      <td>...</td>\n",
       "      <td>...</td>\n",
       "      <td>...</td>\n",
       "      <td>...</td>\n",
       "      <td>...</td>\n",
       "    </tr>\n",
       "    <tr>\n",
       "      <th>1011</th>\n",
       "      <td>65</td>\n",
       "      <td>0</td>\n",
       "      <td>2</td>\n",
       "      <td>153</td>\n",
       "      <td>224</td>\n",
       "      <td>0</td>\n",
       "      <td>1</td>\n",
       "      <td>112</td>\n",
       "      <td>0</td>\n",
       "      <td>2.332487</td>\n",
       "      <td>0</td>\n",
       "      <td>0</td>\n",
       "      <td>1.267661</td>\n",
       "      <td>1.149419</td>\n",
       "      <td>0.218686</td>\n",
       "      <td>-0.519359</td>\n",
       "      <td>-1.003701</td>\n",
       "      <td>1.435797</td>\n",
       "    </tr>\n",
       "    <tr>\n",
       "      <th>1012</th>\n",
       "      <td>60</td>\n",
       "      <td>0</td>\n",
       "      <td>0</td>\n",
       "      <td>121</td>\n",
       "      <td>222</td>\n",
       "      <td>0</td>\n",
       "      <td>1</td>\n",
       "      <td>86</td>\n",
       "      <td>0</td>\n",
       "      <td>0.000000</td>\n",
       "      <td>2</td>\n",
       "      <td>0</td>\n",
       "      <td>0.730526</td>\n",
       "      <td>-0.616311</td>\n",
       "      <td>0.199984</td>\n",
       "      <td>-0.519359</td>\n",
       "      <td>-2.021856</td>\n",
       "      <td>-0.808628</td>\n",
       "    </tr>\n",
       "    <tr>\n",
       "      <th>1013</th>\n",
       "      <td>61</td>\n",
       "      <td>1</td>\n",
       "      <td>0</td>\n",
       "      <td>128</td>\n",
       "      <td>0</td>\n",
       "      <td>0</td>\n",
       "      <td>1</td>\n",
       "      <td>130</td>\n",
       "      <td>0</td>\n",
       "      <td>0.518236</td>\n",
       "      <td>2</td>\n",
       "      <td>0</td>\n",
       "      <td>0.837953</td>\n",
       "      <td>-0.230058</td>\n",
       "      <td>-1.875897</td>\n",
       "      <td>-0.519359</td>\n",
       "      <td>-0.298825</td>\n",
       "      <td>-0.309957</td>\n",
       "    </tr>\n",
       "    <tr>\n",
       "      <th>1014</th>\n",
       "      <td>56</td>\n",
       "      <td>0</td>\n",
       "      <td>0</td>\n",
       "      <td>125</td>\n",
       "      <td>461</td>\n",
       "      <td>0</td>\n",
       "      <td>1</td>\n",
       "      <td>89</td>\n",
       "      <td>0</td>\n",
       "      <td>0.642032</td>\n",
       "      <td>0</td>\n",
       "      <td>0</td>\n",
       "      <td>0.300817</td>\n",
       "      <td>-0.395595</td>\n",
       "      <td>2.434829</td>\n",
       "      <td>-0.519359</td>\n",
       "      <td>-1.904377</td>\n",
       "      <td>-0.190836</td>\n",
       "    </tr>\n",
       "    <tr>\n",
       "      <th>1015</th>\n",
       "      <td>44</td>\n",
       "      <td>1</td>\n",
       "      <td>1</td>\n",
       "      <td>130</td>\n",
       "      <td>220</td>\n",
       "      <td>0</td>\n",
       "      <td>0</td>\n",
       "      <td>187</td>\n",
       "      <td>0</td>\n",
       "      <td>0.033656</td>\n",
       "      <td>2</td>\n",
       "      <td>0</td>\n",
       "      <td>-0.988309</td>\n",
       "      <td>-0.119699</td>\n",
       "      <td>0.181283</td>\n",
       "      <td>-0.519359</td>\n",
       "      <td>1.933284</td>\n",
       "      <td>-0.776242</td>\n",
       "    </tr>\n",
       "  </tbody>\n",
       "</table>\n",
       "<p>990 rows × 18 columns</p>\n",
       "</div>"
      ],
      "text/plain": [
       "      Age  Sex  ChestPainType  RestingBP  Cholesterol  FastingBS  RestingECG  \\\n",
       "0      40    1              1        140          289          0           1   \n",
       "1      49    0              2        160          180          0           1   \n",
       "2      37    1              1        130          283          0           2   \n",
       "3      48    0              0        138          214          0           1   \n",
       "4      54    1              2        150          195          0           1   \n",
       "...   ...  ...            ...        ...          ...        ...         ...   \n",
       "1011   65    0              2        153          224          0           1   \n",
       "1012   60    0              0        121          222          0           1   \n",
       "1013   61    1              0        128            0          0           1   \n",
       "1014   56    0              0        125          461          0           1   \n",
       "1015   44    1              1        130          220          0           0   \n",
       "\n",
       "      MaxHR  ExerciseAngina   Oldpeak  ST_Slope  HeartDisease  Z_scoreAge  \\\n",
       "0       172               0  0.000000         2             0   -1.418017   \n",
       "1       156               0  1.000000         1             1   -0.451173   \n",
       "2        98               0  0.000000         2             0   -1.740299   \n",
       "3       108               1  1.500000         1             1   -0.558600   \n",
       "4       122               0  0.000000         2             0    0.085963   \n",
       "...     ...             ...       ...       ...           ...         ...   \n",
       "1011    112               0  2.332487         0             0    1.267661   \n",
       "1012     86               0  0.000000         2             0    0.730526   \n",
       "1013    130               0  0.518236         2             0    0.837953   \n",
       "1014     89               0  0.642032         0             0    0.300817   \n",
       "1015    187               0  0.033656         2             0   -0.988309   \n",
       "\n",
       "      Z_scoreRestingBP  Z_scoreCholesterol  Z_scoreFastingBS  Z_scoreMaxHR  \\\n",
       "0             0.432091            0.826489         -0.519359      1.345887   \n",
       "1             1.535673           -0.192750         -0.519359      0.719330   \n",
       "2            -0.119699            0.770384         -0.519359     -1.551939   \n",
       "3             0.321733            0.125178         -0.519359     -1.160341   \n",
       "4             0.983882           -0.052488         -0.519359     -0.612103   \n",
       "...                ...                 ...               ...           ...   \n",
       "1011          1.149419            0.218686         -0.519359     -1.003701   \n",
       "1012         -0.616311            0.199984         -0.519359     -2.021856   \n",
       "1013         -0.230058           -1.875897         -0.519359     -0.298825   \n",
       "1014         -0.395595            2.434829         -0.519359     -1.904377   \n",
       "1015         -0.119699            0.181283         -0.519359      1.933284   \n",
       "\n",
       "      Z_scoreOldpeak  \n",
       "0          -0.808628  \n",
       "1           0.153618  \n",
       "2          -0.808628  \n",
       "3           0.634740  \n",
       "4          -0.808628  \n",
       "...              ...  \n",
       "1011        1.435797  \n",
       "1012       -0.808628  \n",
       "1013       -0.309957  \n",
       "1014       -0.190836  \n",
       "1015       -0.776242  \n",
       "\n",
       "[990 rows x 18 columns]"
      ]
     },
     "execution_count": 21,
     "metadata": {},
     "output_type": "execute_result"
    }
   ],
   "source": [
    "df1"
   ]
  },
  {
   "cell_type": "code",
   "execution_count": 22,
   "id": "e5c74df8-712e-42d9-80bd-67602c2d3f22",
   "metadata": {},
   "outputs": [
    {
     "name": "stdout",
     "output_type": "stream",
     "text": [
      "26\n",
      "0\n"
     ]
    }
   ],
   "source": [
    "for i in range(2):\n",
    "    print(df.shape[i]-df1.shape[i])"
   ]
  },
  {
   "cell_type": "markdown",
   "id": "c1b9cf03-5f99-4572-9e44-7641c8cbfb03",
   "metadata": {},
   "source": [
    "### We have successfully removed 26 outliers from the dataset"
   ]
  },
  {
   "cell_type": "code",
   "execution_count": 23,
   "id": "98e36d08-e9d8-450e-af15-e4a68fac4d67",
   "metadata": {},
   "outputs": [
    {
     "data": {
      "text/plain": [
       "Index(['Age', 'Sex', 'ChestPainType', 'RestingBP', 'Cholesterol', 'FastingBS',\n",
       "       'RestingECG', 'MaxHR', 'ExerciseAngina', 'Oldpeak', 'ST_Slope',\n",
       "       'HeartDisease', 'Z_scoreAge', 'Z_scoreRestingBP', 'Z_scoreCholesterol',\n",
       "       'Z_scoreFastingBS', 'Z_scoreMaxHR', 'Z_scoreOldpeak'],\n",
       "      dtype='object')"
      ]
     },
     "execution_count": 23,
     "metadata": {},
     "output_type": "execute_result"
    }
   ],
   "source": [
    "df1.columns"
   ]
  },
  {
   "cell_type": "code",
   "execution_count": 24,
   "id": "8ce23725-9029-4c2c-9fb3-62c51b1c01d4",
   "metadata": {},
   "outputs": [],
   "source": [
    "columns_to_remove = ['Z_scoreAge', 'Z_scoreRestingBP', 'Z_scoreCholesterol',\n",
    "                     'Z_scoreFastingBS', 'Z_scoreMaxHR', 'Z_scoreOldpeak']\n",
    "\n",
    "# Drop the specified columns\n",
    "df1 = df1.drop(columns=columns_to_remove)"
   ]
  },
  {
   "cell_type": "code",
   "execution_count": 25,
   "id": "3fa74733-6d44-4b59-98af-701300704c2a",
   "metadata": {},
   "outputs": [
    {
     "data": {
      "text/html": [
       "<div>\n",
       "<style scoped>\n",
       "    .dataframe tbody tr th:only-of-type {\n",
       "        vertical-align: middle;\n",
       "    }\n",
       "\n",
       "    .dataframe tbody tr th {\n",
       "        vertical-align: top;\n",
       "    }\n",
       "\n",
       "    .dataframe thead th {\n",
       "        text-align: right;\n",
       "    }\n",
       "</style>\n",
       "<table border=\"1\" class=\"dataframe\">\n",
       "  <thead>\n",
       "    <tr style=\"text-align: right;\">\n",
       "      <th></th>\n",
       "      <th>Age</th>\n",
       "      <th>Sex</th>\n",
       "      <th>ChestPainType</th>\n",
       "      <th>RestingBP</th>\n",
       "      <th>Cholesterol</th>\n",
       "      <th>FastingBS</th>\n",
       "      <th>RestingECG</th>\n",
       "      <th>MaxHR</th>\n",
       "      <th>ExerciseAngina</th>\n",
       "      <th>Oldpeak</th>\n",
       "      <th>ST_Slope</th>\n",
       "      <th>HeartDisease</th>\n",
       "    </tr>\n",
       "  </thead>\n",
       "  <tbody>\n",
       "    <tr>\n",
       "      <th>0</th>\n",
       "      <td>40</td>\n",
       "      <td>1</td>\n",
       "      <td>1</td>\n",
       "      <td>140</td>\n",
       "      <td>289</td>\n",
       "      <td>0</td>\n",
       "      <td>1</td>\n",
       "      <td>172</td>\n",
       "      <td>0</td>\n",
       "      <td>0.0</td>\n",
       "      <td>2</td>\n",
       "      <td>0</td>\n",
       "    </tr>\n",
       "    <tr>\n",
       "      <th>1</th>\n",
       "      <td>49</td>\n",
       "      <td>0</td>\n",
       "      <td>2</td>\n",
       "      <td>160</td>\n",
       "      <td>180</td>\n",
       "      <td>0</td>\n",
       "      <td>1</td>\n",
       "      <td>156</td>\n",
       "      <td>0</td>\n",
       "      <td>1.0</td>\n",
       "      <td>1</td>\n",
       "      <td>1</td>\n",
       "    </tr>\n",
       "    <tr>\n",
       "      <th>2</th>\n",
       "      <td>37</td>\n",
       "      <td>1</td>\n",
       "      <td>1</td>\n",
       "      <td>130</td>\n",
       "      <td>283</td>\n",
       "      <td>0</td>\n",
       "      <td>2</td>\n",
       "      <td>98</td>\n",
       "      <td>0</td>\n",
       "      <td>0.0</td>\n",
       "      <td>2</td>\n",
       "      <td>0</td>\n",
       "    </tr>\n",
       "    <tr>\n",
       "      <th>3</th>\n",
       "      <td>48</td>\n",
       "      <td>0</td>\n",
       "      <td>0</td>\n",
       "      <td>138</td>\n",
       "      <td>214</td>\n",
       "      <td>0</td>\n",
       "      <td>1</td>\n",
       "      <td>108</td>\n",
       "      <td>1</td>\n",
       "      <td>1.5</td>\n",
       "      <td>1</td>\n",
       "      <td>1</td>\n",
       "    </tr>\n",
       "    <tr>\n",
       "      <th>4</th>\n",
       "      <td>54</td>\n",
       "      <td>1</td>\n",
       "      <td>2</td>\n",
       "      <td>150</td>\n",
       "      <td>195</td>\n",
       "      <td>0</td>\n",
       "      <td>1</td>\n",
       "      <td>122</td>\n",
       "      <td>0</td>\n",
       "      <td>0.0</td>\n",
       "      <td>2</td>\n",
       "      <td>0</td>\n",
       "    </tr>\n",
       "  </tbody>\n",
       "</table>\n",
       "</div>"
      ],
      "text/plain": [
       "   Age  Sex  ChestPainType  RestingBP  Cholesterol  FastingBS  RestingECG  \\\n",
       "0   40    1              1        140          289          0           1   \n",
       "1   49    0              2        160          180          0           1   \n",
       "2   37    1              1        130          283          0           2   \n",
       "3   48    0              0        138          214          0           1   \n",
       "4   54    1              2        150          195          0           1   \n",
       "\n",
       "   MaxHR  ExerciseAngina  Oldpeak  ST_Slope  HeartDisease  \n",
       "0    172               0      0.0         2             0  \n",
       "1    156               0      1.0         1             1  \n",
       "2     98               0      0.0         2             0  \n",
       "3    108               1      1.5         1             1  \n",
       "4    122               0      0.0         2             0  "
      ]
     },
     "execution_count": 25,
     "metadata": {},
     "output_type": "execute_result"
    }
   ],
   "source": [
    "df1.head()"
   ]
  },
  {
   "cell_type": "code",
   "execution_count": 26,
   "id": "8192cf49-461a-456a-855f-8db814899bfc",
   "metadata": {},
   "outputs": [
    {
     "data": {
      "text/plain": [
       "Index(['Age', 'Sex', 'ChestPainType', 'RestingBP', 'Cholesterol', 'FastingBS',\n",
       "       'RestingECG', 'MaxHR', 'ExerciseAngina', 'Oldpeak', 'ST_Slope',\n",
       "       'HeartDisease'],\n",
       "      dtype='object')"
      ]
     },
     "execution_count": 26,
     "metadata": {},
     "output_type": "execute_result"
    }
   ],
   "source": [
    "df1.columns"
   ]
  },
  {
   "cell_type": "code",
   "execution_count": 27,
   "id": "2a9502ee-de93-4bc4-9848-6f375c460926",
   "metadata": {},
   "outputs": [],
   "source": [
    "scaler = StandardScaler()"
   ]
  },
  {
   "cell_type": "code",
   "execution_count": 28,
   "id": "f4b09e7b-f14c-401f-be97-2f03dc4a3975",
   "metadata": {},
   "outputs": [],
   "source": [
    "y = df1['HeartDisease']\n",
    "df1.drop(columns=['HeartDisease'], inplace=True)"
   ]
  },
  {
   "cell_type": "code",
   "execution_count": 29,
   "id": "5429f5cc-3dea-409e-bcac-270f65360166",
   "metadata": {},
   "outputs": [],
   "source": [
    "X = df1"
   ]
  },
  {
   "cell_type": "code",
   "execution_count": 30,
   "id": "cedabdce-e1b4-4da7-8c51-8cd9c08f67df",
   "metadata": {},
   "outputs": [],
   "source": [
    "X_scaled = scaler.fit_transform(X)\n"
   ]
  },
  {
   "cell_type": "code",
   "execution_count": 31,
   "id": "018f2548-0a43-48f5-a29e-b7e0672aa481",
   "metadata": {},
   "outputs": [
    {
     "data": {
      "text/plain": [
       "(990, 11)"
      ]
     },
     "execution_count": 31,
     "metadata": {},
     "output_type": "execute_result"
    }
   ],
   "source": [
    "X_scaled.shape"
   ]
  },
  {
   "cell_type": "code",
   "execution_count": 32,
   "id": "a5330315-a3a9-4cb1-9ce9-2519c9cecb7f",
   "metadata": {},
   "outputs": [],
   "source": [
    "X_train, X_test, y_train, y_test = train_test_split(X_scaled,y,test_size=0.36,random_state=42)"
   ]
  },
  {
   "cell_type": "code",
   "execution_count": 33,
   "id": "3648e16f-0ede-4adc-8454-32562704c158",
   "metadata": {},
   "outputs": [
    {
     "data": {
      "text/plain": [
       "(357, 11)"
      ]
     },
     "execution_count": 33,
     "metadata": {},
     "output_type": "execute_result"
    }
   ],
   "source": [
    "X_test.shape"
   ]
  },
  {
   "cell_type": "code",
   "execution_count": 34,
   "id": "1667797b-c09c-4c89-bc9b-035a8181de5e",
   "metadata": {},
   "outputs": [
    {
     "data": {
      "text/plain": [
       "(633, 11)"
      ]
     },
     "execution_count": 34,
     "metadata": {},
     "output_type": "execute_result"
    }
   ],
   "source": [
    "X_train.shape"
   ]
  },
  {
   "cell_type": "code",
   "execution_count": 35,
   "id": "e60138ab-3aee-475c-9702-881e0fef48f9",
   "metadata": {},
   "outputs": [],
   "source": [
    "def evaluate_model(model, X_valid=X_test, y_valid=y_test):\n",
    "    y_pred = model.predict(X_valid)\n",
    "    accuracy = accuracy_score(y_valid, y_pred)\n",
    "    print(f\"Accuracy: {accuracy:.2f}\")\n",
    "    print(\"Classification Report:\")\n",
    "    print(classification_report(y_valid, y_pred))\n",
    "    print(\"Confusion Matrix:\")\n",
    "    print(confusion_matrix(y_valid, y_pred))"
   ]
  },
  {
   "cell_type": "code",
   "execution_count": 36,
   "id": "72bff178-8616-450c-8410-009a6a676e8c",
   "metadata": {},
   "outputs": [
    {
     "name": "stdout",
     "output_type": "stream",
     "text": [
      "Accuracy: 0.86\n",
      "Classification Report:\n",
      "              precision    recall  f1-score   support\n",
      "\n",
      "           0       0.87      0.86      0.86       182\n",
      "           1       0.85      0.87      0.86       175\n",
      "\n",
      "    accuracy                           0.86       357\n",
      "   macro avg       0.86      0.86      0.86       357\n",
      "weighted avg       0.86      0.86      0.86       357\n",
      "\n",
      "Confusion Matrix:\n",
      "[[156  26]\n",
      " [ 23 152]]\n"
     ]
    }
   ],
   "source": [
    "model_naive = GaussianNB()\n",
    "model_naive.fit(X_train,y_train)\n",
    "evaluate_model(model_naive)"
   ]
  },
  {
   "cell_type": "code",
   "execution_count": 37,
   "id": "1c8c1a90-82ab-48b8-87fb-d1992a9e4d93",
   "metadata": {
    "tags": []
   },
   "outputs": [
    {
     "name": "stdout",
     "output_type": "stream",
     "text": [
      "Accuracy: 0.87\n",
      "Classification Report:\n",
      "              precision    recall  f1-score   support\n",
      "\n",
      "           0       0.91      0.84      0.87       182\n",
      "           1       0.85      0.91      0.88       175\n",
      "\n",
      "    accuracy                           0.87       357\n",
      "   macro avg       0.88      0.87      0.87       357\n",
      "weighted avg       0.88      0.87      0.87       357\n",
      "\n",
      "Confusion Matrix:\n",
      "[[153  29]\n",
      " [ 16 159]]\n"
     ]
    }
   ],
   "source": [
    "model=SVC(kernel='rbf')\n",
    "model.fit(X_train,y_train)\n",
    "evaluate_model(model)"
   ]
  },
  {
   "cell_type": "code",
   "execution_count": 38,
   "id": "874e2bc9-8a82-4bd5-a280-2ef0cfa6cab2",
   "metadata": {},
   "outputs": [
    {
     "name": "stdout",
     "output_type": "stream",
     "text": [
      "Accuracy: 0.86\n",
      "Classification Report:\n",
      "              precision    recall  f1-score   support\n",
      "\n",
      "           0       0.86      0.86      0.86       182\n",
      "           1       0.86      0.86      0.86       175\n",
      "\n",
      "    accuracy                           0.86       357\n",
      "   macro avg       0.86      0.86      0.86       357\n",
      "weighted avg       0.86      0.86      0.86       357\n",
      "\n",
      "Confusion Matrix:\n",
      "[[157  25]\n",
      " [ 25 150]]\n"
     ]
    }
   ],
   "source": [
    "from sklearn.linear_model import LogisticRegression\n",
    "log_model=LogisticRegression()\n",
    "log_model.fit(X_train,y_train)\n",
    "evaluate_model(log_model)"
   ]
  },
  {
   "cell_type": "code",
   "execution_count": 39,
   "id": "69b993da-61bd-4ee3-ad6d-10168755c1af",
   "metadata": {},
   "outputs": [
    {
     "name": "stdout",
     "output_type": "stream",
     "text": [
      "Accuracy: 0.89\n",
      "Classification Report:\n",
      "              precision    recall  f1-score   support\n",
      "\n",
      "           0       0.90      0.88      0.89       182\n",
      "           1       0.88      0.90      0.89       175\n",
      "\n",
      "    accuracy                           0.89       357\n",
      "   macro avg       0.89      0.89      0.89       357\n",
      "weighted avg       0.89      0.89      0.89       357\n",
      "\n",
      "Confusion Matrix:\n",
      "[[161  21]\n",
      " [ 17 158]]\n"
     ]
    }
   ],
   "source": [
    "from sklearn.ensemble import RandomForestClassifier\n",
    "rf_model=RandomForestClassifier(max_depth=12, random_state=0)\n",
    "rf_model.fit(X_train,y_train)\n",
    "evaluate_model(rf_model)"
   ]
  },
  {
   "cell_type": "code",
   "execution_count": 40,
   "id": "72061fb2-9938-4208-97de-4b4ac5861984",
   "metadata": {},
   "outputs": [
    {
     "name": "stdout",
     "output_type": "stream",
     "text": [
      "Fitting 5 folds for each of 243 candidates, totalling 1215 fits\n",
      "Best Hyperparameters: {'colsample_bytree': 0.7, 'learning_rate': 0.1, 'max_depth': 3, 'n_estimators': 200, 'subsample': 1.0}\n"
     ]
    },
    {
     "name": "stderr",
     "output_type": "stream",
     "text": [
      "C:\\Users\\User\\AppData\\Local\\Programs\\Python\\Python310\\lib\\site-packages\\xgboost\\core.py:158: UserWarning: [23:58:44] WARNING: C:\\buildkite-agent\\builds\\buildkite-windows-cpu-autoscaling-group-i-06abd128ca6c1688d-1\\xgboost\\xgboost-ci-windows\\src\\learner.cc:740: \n",
      "Parameters: { \"use_label_encoder\" } are not used.\n",
      "\n",
      "  warnings.warn(smsg, UserWarning)\n"
     ]
    }
   ],
   "source": [
    "xgboost_model = XGBClassifier(use_label_encoder=False, eval_metric='logloss')\n",
    "param_grid = {\n",
    "    'n_estimators': [100, 200, 300],\n",
    "    'max_depth': [3, 4, 5],\n",
    "    'learning_rate': [0.01, 0.1, 0.2],\n",
    "    'colsample_bytree': [0.5, 0.7, 1.0],\n",
    "    'subsample': [0.5, 0.7, 1.0]\n",
    "}\n",
    "grid_search = GridSearchCV(estimator=xgboost_model, param_grid=param_grid, \n",
    "                           cv=5, scoring='accuracy', n_jobs=-1, verbose=1)\n",
    "grid_search.fit(X_train, y_train)\n",
    "\n",
    "# Best hyperparameters and model\n",
    "best_params = grid_search.best_params_\n",
    "best_model = grid_search.best_estimator_\n",
    "\n",
    "print(\"Best Hyperparameters:\", best_params)"
   ]
  },
  {
   "cell_type": "code",
   "execution_count": 41,
   "id": "3ea7f533-844d-4125-97e7-04b8a7c42e3e",
   "metadata": {},
   "outputs": [
    {
     "name": "stdout",
     "output_type": "stream",
     "text": [
      "Accuracy: 0.88\n",
      "Classification Report:\n",
      "              precision    recall  f1-score   support\n",
      "\n",
      "           0       0.90      0.85      0.88       182\n",
      "           1       0.85      0.90      0.88       175\n",
      "\n",
      "    accuracy                           0.88       357\n",
      "   macro avg       0.88      0.88      0.88       357\n",
      "weighted avg       0.88      0.88      0.88       357\n",
      "\n",
      "Confusion Matrix:\n",
      "[[155  27]\n",
      " [ 17 158]]\n"
     ]
    }
   ],
   "source": [
    "m1 = XGBClassifier(\n",
    "    learning_rate=best_params['learning_rate'],\n",
    "    max_depth=best_params['max_depth'],\n",
    "    n_estimators=best_params['n_estimators'],\n",
    "    subsample=best_params['subsample'],\n",
    "    colsample_bytree=best_params['colsample_bytree'],\n",
    "    random_state=42\n",
    ")\n",
    "m1.fit(X_train, y_train)\n",
    "evaluate_model(m1)"
   ]
  },
  {
   "cell_type": "code",
   "execution_count": 42,
   "id": "49b7c02c-1990-4543-8b22-703dd971f38c",
   "metadata": {},
   "outputs": [
    {
     "data": {
      "image/png": "[encoded data removed]",
      "text/plain": [
       "<Figure size 1000x600 with 1 Axes>"
      ]
     },
     "metadata": {},
     "output_type": "display_data"
    }
   ],
   "source": [
    "k_range = range(1, 21)  # Range of k values to test\n",
    "accuracies = []\n",
    "for k in k_range:\n",
    "    model = KNeighborsClassifier(n_neighbors=k)\n",
    "    model.fit(X_train, y_train)\n",
    "    y_pred = model.predict(X_test)\n",
    "    accuracy = accuracy_score(y_test, y_pred)\n",
    "    accuracies.append(accuracy)\n",
    "plt.figure(figsize=(10, 6))\n",
    "plt.plot(k_range, accuracies, marker='o', linestyle='-', color='b')\n",
    "plt.xlabel('Number of Neighbors (k)')\n",
    "plt.ylabel('Accuracy')\n",
    "plt.title('KNN Classifier Accuracy vs. Number of Neighbors')\n",
    "plt.xticks(k_range)\n",
    "plt.grid(True)\n",
    "plt.show()"
   ]
  },
  {
   "cell_type": "code",
   "execution_count": 43,
   "id": "3c4c2f20-289f-481f-bfda-e72daabbf047",
   "metadata": {},
   "outputs": [
    {
     "name": "stdout",
     "output_type": "stream",
     "text": [
      "Accuracy: 0.82\n",
      "Classification Report:\n",
      "              precision    recall  f1-score   support\n",
      "\n",
      "           0       0.77      0.90      0.83       182\n",
      "           1       0.88      0.73      0.79       175\n",
      "\n",
      "    accuracy                           0.82       357\n",
      "   macro avg       0.82      0.81      0.81       357\n",
      "weighted avg       0.82      0.82      0.81       357\n",
      "\n",
      "Confusion Matrix:\n",
      "[[164  18]\n",
      " [ 48 127]]\n"
     ]
    }
   ],
   "source": [
    "knnmodel = KNeighborsClassifier(n_neighbors=2)\n",
    "knnmodel.fit(X_train, y_train)\n",
    "evaluate_model(knnmodel)"
   ]
  },
  {
   "cell_type": "code",
   "execution_count": 44,
   "id": "00ae67a0-5e3d-48b8-bc84-9f5be20432a0",
   "metadata": {},
   "outputs": [
    {
     "data": {
      "text/html": [
       "<div>\n",
       "<style scoped>\n",
       "    .dataframe tbody tr th:only-of-type {\n",
       "        vertical-align: middle;\n",
       "    }\n",
       "\n",
       "    .dataframe tbody tr th {\n",
       "        vertical-align: top;\n",
       "    }\n",
       "\n",
       "    .dataframe thead th {\n",
       "        text-align: right;\n",
       "    }\n",
       "</style>\n",
       "<table border=\"1\" class=\"dataframe\">\n",
       "  <thead>\n",
       "    <tr style=\"text-align: right;\">\n",
       "      <th></th>\n",
       "      <th>Age</th>\n",
       "      <th>Sex</th>\n",
       "      <th>ChestPainType</th>\n",
       "      <th>RestingBP</th>\n",
       "      <th>Cholesterol</th>\n",
       "      <th>FastingBS</th>\n",
       "      <th>RestingECG</th>\n",
       "      <th>MaxHR</th>\n",
       "      <th>ExerciseAngina</th>\n",
       "      <th>Oldpeak</th>\n",
       "      <th>ST_Slope</th>\n",
       "    </tr>\n",
       "  </thead>\n",
       "  <tbody>\n",
       "    <tr>\n",
       "      <th>0</th>\n",
       "      <td>40</td>\n",
       "      <td>1</td>\n",
       "      <td>1</td>\n",
       "      <td>140</td>\n",
       "      <td>289</td>\n",
       "      <td>0</td>\n",
       "      <td>1</td>\n",
       "      <td>172</td>\n",
       "      <td>0</td>\n",
       "      <td>0.000000</td>\n",
       "      <td>2</td>\n",
       "    </tr>\n",
       "    <tr>\n",
       "      <th>1</th>\n",
       "      <td>49</td>\n",
       "      <td>0</td>\n",
       "      <td>2</td>\n",
       "      <td>160</td>\n",
       "      <td>180</td>\n",
       "      <td>0</td>\n",
       "      <td>1</td>\n",
       "      <td>156</td>\n",
       "      <td>0</td>\n",
       "      <td>1.000000</td>\n",
       "      <td>1</td>\n",
       "    </tr>\n",
       "    <tr>\n",
       "      <th>2</th>\n",
       "      <td>37</td>\n",
       "      <td>1</td>\n",
       "      <td>1</td>\n",
       "      <td>130</td>\n",
       "      <td>283</td>\n",
       "      <td>0</td>\n",
       "      <td>2</td>\n",
       "      <td>98</td>\n",
       "      <td>0</td>\n",
       "      <td>0.000000</td>\n",
       "      <td>2</td>\n",
       "    </tr>\n",
       "    <tr>\n",
       "      <th>3</th>\n",
       "      <td>48</td>\n",
       "      <td>0</td>\n",
       "      <td>0</td>\n",
       "      <td>138</td>\n",
       "      <td>214</td>\n",
       "      <td>0</td>\n",
       "      <td>1</td>\n",
       "      <td>108</td>\n",
       "      <td>1</td>\n",
       "      <td>1.500000</td>\n",
       "      <td>1</td>\n",
       "    </tr>\n",
       "    <tr>\n",
       "      <th>4</th>\n",
       "      <td>54</td>\n",
       "      <td>1</td>\n",
       "      <td>2</td>\n",
       "      <td>150</td>\n",
       "      <td>195</td>\n",
       "      <td>0</td>\n",
       "      <td>1</td>\n",
       "      <td>122</td>\n",
       "      <td>0</td>\n",
       "      <td>0.000000</td>\n",
       "      <td>2</td>\n",
       "    </tr>\n",
       "    <tr>\n",
       "      <th>...</th>\n",
       "      <td>...</td>\n",
       "      <td>...</td>\n",
       "      <td>...</td>\n",
       "      <td>...</td>\n",
       "      <td>...</td>\n",
       "      <td>...</td>\n",
       "      <td>...</td>\n",
       "      <td>...</td>\n",
       "      <td>...</td>\n",
       "      <td>...</td>\n",
       "      <td>...</td>\n",
       "    </tr>\n",
       "    <tr>\n",
       "      <th>1011</th>\n",
       "      <td>65</td>\n",
       "      <td>0</td>\n",
       "      <td>2</td>\n",
       "      <td>153</td>\n",
       "      <td>224</td>\n",
       "      <td>0</td>\n",
       "      <td>1</td>\n",
       "      <td>112</td>\n",
       "      <td>0</td>\n",
       "      <td>2.332487</td>\n",
       "      <td>0</td>\n",
       "    </tr>\n",
       "    <tr>\n",
       "      <th>1012</th>\n",
       "      <td>60</td>\n",
       "      <td>0</td>\n",
       "      <td>0</td>\n",
       "      <td>121</td>\n",
       "      <td>222</td>\n",
       "      <td>0</td>\n",
       "      <td>1</td>\n",
       "      <td>86</td>\n",
       "      <td>0</td>\n",
       "      <td>0.000000</td>\n",
       "      <td>2</td>\n",
       "    </tr>\n",
       "    <tr>\n",
       "      <th>1013</th>\n",
       "      <td>61</td>\n",
       "      <td>1</td>\n",
       "      <td>0</td>\n",
       "      <td>128</td>\n",
       "      <td>0</td>\n",
       "      <td>0</td>\n",
       "      <td>1</td>\n",
       "      <td>130</td>\n",
       "      <td>0</td>\n",
       "      <td>0.518236</td>\n",
       "      <td>2</td>\n",
       "    </tr>\n",
       "    <tr>\n",
       "      <th>1014</th>\n",
       "      <td>56</td>\n",
       "      <td>0</td>\n",
       "      <td>0</td>\n",
       "      <td>125</td>\n",
       "      <td>461</td>\n",
       "      <td>0</td>\n",
       "      <td>1</td>\n",
       "      <td>89</td>\n",
       "      <td>0</td>\n",
       "      <td>0.642032</td>\n",
       "      <td>0</td>\n",
       "    </tr>\n",
       "    <tr>\n",
       "      <th>1015</th>\n",
       "      <td>44</td>\n",
       "      <td>1</td>\n",
       "      <td>1</td>\n",
       "      <td>130</td>\n",
       "      <td>220</td>\n",
       "      <td>0</td>\n",
       "      <td>0</td>\n",
       "      <td>187</td>\n",
       "      <td>0</td>\n",
       "      <td>0.033656</td>\n",
       "      <td>2</td>\n",
       "    </tr>\n",
       "  </tbody>\n",
       "</table>\n",
       "<p>990 rows × 11 columns</p>\n",
       "</div>"
      ],
      "text/plain": [
       "      Age  Sex  ChestPainType  RestingBP  Cholesterol  FastingBS  RestingECG  \\\n",
       "0      40    1              1        140          289          0           1   \n",
       "1      49    0              2        160          180          0           1   \n",
       "2      37    1              1        130          283          0           2   \n",
       "3      48    0              0        138          214          0           1   \n",
       "4      54    1              2        150          195          0           1   \n",
       "...   ...  ...            ...        ...          ...        ...         ...   \n",
       "1011   65    0              2        153          224          0           1   \n",
       "1012   60    0              0        121          222          0           1   \n",
       "1013   61    1              0        128            0          0           1   \n",
       "1014   56    0              0        125          461          0           1   \n",
       "1015   44    1              1        130          220          0           0   \n",
       "\n",
       "      MaxHR  ExerciseAngina   Oldpeak  ST_Slope  \n",
       "0       172               0  0.000000         2  \n",
       "1       156               0  1.000000         1  \n",
       "2        98               0  0.000000         2  \n",
       "3       108               1  1.500000         1  \n",
       "4       122               0  0.000000         2  \n",
       "...     ...             ...       ...       ...  \n",
       "1011    112               0  2.332487         0  \n",
       "1012     86               0  0.000000         2  \n",
       "1013    130               0  0.518236         2  \n",
       "1014     89               0  0.642032         0  \n",
       "1015    187               0  0.033656         2  \n",
       "\n",
       "[990 rows x 11 columns]"
      ]
     },
     "execution_count": 44,
     "metadata": {},
     "output_type": "execute_result"
    }
   ],
   "source": [
    "X"
   ]
  },
  {
   "cell_type": "code",
   "execution_count": 45,
   "id": "fb9a796f-bf32-49dd-b7a5-23ea8cb33efe",
   "metadata": {},
   "outputs": [
    {
     "data": {
      "text/plain": [
       "(990, 11)"
      ]
     },
     "execution_count": 45,
     "metadata": {},
     "output_type": "execute_result"
    }
   ],
   "source": [
    "X.shape"
   ]
  },
  {
   "cell_type": "markdown",
   "id": "3d75fc62-5f00-4f44-a1b3-0a6083d68594",
   "metadata": {},
   "source": [
    "### Now let's do PCA for decomposition or high dimensionality reduction in features"
   ]
  },
  {
   "cell_type": "code",
   "execution_count": 46,
   "id": "5926dd2e-9714-4a7d-80c6-a64b9968082f",
   "metadata": {},
   "outputs": [
    {
     "data": {
      "text/plain": [
       "(990, 3)"
      ]
     },
     "execution_count": 46,
     "metadata": {},
     "output_type": "execute_result"
    }
   ],
   "source": [
    "\n",
    "pca = PCA(0.99)\n",
    "X_pca = pca.fit_transform(X)\n",
    "X_pca.shape"
   ]
  },
  {
   "cell_type": "code",
   "execution_count": 47,
   "id": "10e6cdf8-e89f-41bc-80ae-35ac9be86e1a",
   "metadata": {},
   "outputs": [
    {
     "data": {
      "text/plain": [
       "array([0.91840783, 0.05290019, 0.02303411])"
      ]
     },
     "execution_count": 47,
     "metadata": {},
     "output_type": "execute_result"
    }
   ],
   "source": [
    "pca.explained_variance_ratio_"
   ]
  },
  {
   "cell_type": "code",
   "execution_count": 48,
   "id": "14dd6e17-28a5-4524-bc4c-1efec427a118",
   "metadata": {},
   "outputs": [
    {
     "data": {
      "text/plain": [
       "0.7175792507204611"
      ]
     },
     "execution_count": 48,
     "metadata": {},
     "output_type": "execute_result"
    }
   ],
   "source": [
    "X_trainpca,X_validpca,ytrainpca,yvalidpca=train_test_split(X_pca,y,test_size=0.35,random_state=42)\n",
    "mdl = SVC(kernel='rbf')\n",
    "mdl.fit(X_trainpca,ytrainpca)\n",
    "mdl.score(X_validpca,yvalidpca)"
   ]
  },
  {
   "cell_type": "code",
   "execution_count": 49,
   "id": "65ce740a-4ebe-4ba0-9e4f-850f7fa6f19a",
   "metadata": {},
   "outputs": [
    {
     "data": {
      "text/plain": [
       "0.7060518731988472"
      ]
     },
     "execution_count": 49,
     "metadata": {},
     "output_type": "execute_result"
    }
   ],
   "source": [
    "mfl = RandomForestClassifier(max_depth=12, random_state=0)\n",
    "rf_model.fit(X_trainpca,ytrainpca)\n",
    "rf_model.score(X_validpca,yvalidpca)"
   ]
  },
  {
   "cell_type": "markdown",
   "id": "f7ba7e8b-4730-4093-92ad-f2dc5d7a4102",
   "metadata": {},
   "source": [
    "### Using K-Best feature selection and trying the best model which we got from the above predicitve models, as predictive modelling gives us insights about how well a model is fitted and how much accuracy we can accept and we can choose a model for classification"
   ]
  },
  {
   "cell_type": "code",
   "execution_count": 50,
   "id": "15e4c0a8-cd41-4c58-bd7b-0956901291eb",
   "metadata": {},
   "outputs": [
    {
     "data": {
      "text/plain": [
       "<AxesSubplot: >"
      ]
     },
     "execution_count": 50,
     "metadata": {},
     "output_type": "execute_result"
    },
    {
     "data": {
      "image/png": "[encoded data removed]",
      "text/plain": [
       "<Figure size 2000x1000 with 2 Axes>"
      ]
     },
     "metadata": {},
     "output_type": "display_data"
    }
   ],
   "source": [
    "plt.figure(figsize=(20,10))\n",
    "corr = df1.corr()\n",
    "\n",
    "sns.heatmap(corr,annot=True)"
   ]
  },
  {
   "cell_type": "code",
   "execution_count": 51,
   "id": "cb98bd99-606e-491b-bc20-d30720b5084d",
   "metadata": {},
   "outputs": [],
   "source": [
    "from scipy.stats import chi2_contingency\n",
    "from sklearn.feature_selection import chi2"
   ]
  },
  {
   "cell_type": "code",
   "execution_count": 52,
   "id": "f7145c35-8c69-4755-b858-b8fd372e48e9",
   "metadata": {},
   "outputs": [],
   "source": [
    "def chi_squared_test(df, feature, target):\n",
    "    contingency_table = pd.crosstab(df[feature], df[target])\n",
    "    chi2_stat, p_val, dof, ex = chi2_contingency(contingency_table)\n",
    "    return chi2_stat"
   ]
  },
  {
   "cell_type": "code",
   "execution_count": 53,
   "id": "dece53f2-8e00-4ba2-bf0e-c4c5cab41353",
   "metadata": {},
   "outputs": [],
   "source": [
    "columns = list(df1.columns)"
   ]
  },
  {
   "cell_type": "code",
   "execution_count": 54,
   "id": "b9c7fa56-2087-432c-b208-7a269ef80ead",
   "metadata": {},
   "outputs": [],
   "source": [
    "heartdisease_column = df_resampled[['HeartDisease']]\n",
    "df1 = pd.concat([df1, heartdisease_column], axis=1)"
   ]
  },
  {
   "cell_type": "code",
   "execution_count": 55,
   "id": "6d95e1d0-0ef7-4fa9-9493-9489779b3ee9",
   "metadata": {},
   "outputs": [],
   "source": [
    "chi2_results = {feature: chi_squared_test(df1, feature, 'HeartDisease') for feature in columns}"
   ]
  },
  {
   "cell_type": "code",
   "execution_count": 56,
   "id": "94dab3a8-1eb3-4bc3-830a-baa780704e49",
   "metadata": {},
   "outputs": [
    {
     "data": {
      "image/png": "[encoded data removed]",
      "text/plain": [
       "<Figure size 1000x600 with 1 Axes>"
      ]
     },
     "metadata": {},
     "output_type": "display_data"
    }
   ],
   "source": [
    "plt.figure(figsize=(10, 6))\n",
    "plt.bar(chi2_results.keys(), chi2_results.values())\n",
    "plt.xlabel('Features')\n",
    "plt.ylabel('Chi-Squared Statistic')\n",
    "plt.title('Chi-Squared Statistics for Features')\n",
    "plt.show()"
   ]
  },
  {
   "cell_type": "code",
   "execution_count": 57,
   "id": "83edddd4-e85c-4db4-87d8-b4cef160d774",
   "metadata": {},
   "outputs": [],
   "source": [
    "X_train,X_test,y_train,y_test=train_test_split(X_scaled,y,test_size=0.30,random_state=42)"
   ]
  },
  {
   "cell_type": "code",
   "execution_count": 58,
   "id": "e79c1e1c-98f2-46ab-a775-112ea19d60c6",
   "metadata": {},
   "outputs": [
    {
     "data": {
      "text/html": [
       "<div>\n",
       "<style scoped>\n",
       "    .dataframe tbody tr th:only-of-type {\n",
       "        vertical-align: middle;\n",
       "    }\n",
       "\n",
       "    .dataframe tbody tr th {\n",
       "        vertical-align: top;\n",
       "    }\n",
       "\n",
       "    .dataframe thead th {\n",
       "        text-align: right;\n",
       "    }\n",
       "</style>\n",
       "<table border=\"1\" class=\"dataframe\">\n",
       "  <thead>\n",
       "    <tr style=\"text-align: right;\">\n",
       "      <th></th>\n",
       "      <th>Age</th>\n",
       "      <th>Sex</th>\n",
       "      <th>ChestPainType</th>\n",
       "      <th>RestingBP</th>\n",
       "      <th>Cholesterol</th>\n",
       "      <th>FastingBS</th>\n",
       "      <th>RestingECG</th>\n",
       "      <th>MaxHR</th>\n",
       "      <th>ExerciseAngina</th>\n",
       "      <th>Oldpeak</th>\n",
       "      <th>ST_Slope</th>\n",
       "    </tr>\n",
       "  </thead>\n",
       "  <tbody>\n",
       "    <tr>\n",
       "      <th>0</th>\n",
       "      <td>0.632945</td>\n",
       "      <td>0.571907</td>\n",
       "      <td>2.372017</td>\n",
       "      <td>1.677621</td>\n",
       "      <td>0.701590</td>\n",
       "      <td>-0.518875</td>\n",
       "      <td>-1.568766</td>\n",
       "      <td>-0.504341</td>\n",
       "      <td>-0.754280</td>\n",
       "      <td>-0.836503</td>\n",
       "      <td>1.000877</td>\n",
       "    </tr>\n",
       "    <tr>\n",
       "      <th>1</th>\n",
       "      <td>-2.591493</td>\n",
       "      <td>0.571907</td>\n",
       "      <td>0.229410</td>\n",
       "      <td>0.489309</td>\n",
       "      <td>0.606232</td>\n",
       "      <td>-0.518875</td>\n",
       "      <td>0.054095</td>\n",
       "      <td>1.226326</td>\n",
       "      <td>-0.754280</td>\n",
       "      <td>-0.836503</td>\n",
       "      <td>1.000877</td>\n",
       "    </tr>\n",
       "    <tr>\n",
       "      <th>2</th>\n",
       "      <td>-1.731643</td>\n",
       "      <td>0.571907</td>\n",
       "      <td>1.300713</td>\n",
       "      <td>-0.817835</td>\n",
       "      <td>0.386910</td>\n",
       "      <td>-0.518875</td>\n",
       "      <td>-1.568766</td>\n",
       "      <td>1.068992</td>\n",
       "      <td>-0.754280</td>\n",
       "      <td>0.217509</td>\n",
       "      <td>-0.675719</td>\n",
       "    </tr>\n",
       "    <tr>\n",
       "      <th>3</th>\n",
       "      <td>-1.301718</td>\n",
       "      <td>-1.748536</td>\n",
       "      <td>-0.841893</td>\n",
       "      <td>-0.401926</td>\n",
       "      <td>0.158053</td>\n",
       "      <td>-0.518875</td>\n",
       "      <td>0.054095</td>\n",
       "      <td>-0.819007</td>\n",
       "      <td>-0.754280</td>\n",
       "      <td>-0.836503</td>\n",
       "      <td>1.000877</td>\n",
       "    </tr>\n",
       "    <tr>\n",
       "      <th>4</th>\n",
       "      <td>0.095539</td>\n",
       "      <td>0.571907</td>\n",
       "      <td>-0.841893</td>\n",
       "      <td>-0.104848</td>\n",
       "      <td>-1.901668</td>\n",
       "      <td>1.927248</td>\n",
       "      <td>0.054095</td>\n",
       "      <td>-1.094340</td>\n",
       "      <td>1.325768</td>\n",
       "      <td>2.325533</td>\n",
       "      <td>-0.675719</td>\n",
       "    </tr>\n",
       "    <tr>\n",
       "      <th>...</th>\n",
       "      <td>...</td>\n",
       "      <td>...</td>\n",
       "      <td>...</td>\n",
       "      <td>...</td>\n",
       "      <td>...</td>\n",
       "      <td>...</td>\n",
       "      <td>...</td>\n",
       "      <td>...</td>\n",
       "      <td>...</td>\n",
       "      <td>...</td>\n",
       "      <td>...</td>\n",
       "    </tr>\n",
       "    <tr>\n",
       "      <th>688</th>\n",
       "      <td>-0.334386</td>\n",
       "      <td>0.571907</td>\n",
       "      <td>-0.841893</td>\n",
       "      <td>0.489309</td>\n",
       "      <td>-0.671557</td>\n",
       "      <td>-0.518875</td>\n",
       "      <td>0.054095</td>\n",
       "      <td>-0.111007</td>\n",
       "      <td>-0.754280</td>\n",
       "      <td>-0.836503</td>\n",
       "      <td>1.000877</td>\n",
       "    </tr>\n",
       "    <tr>\n",
       "      <th>689</th>\n",
       "      <td>-0.226905</td>\n",
       "      <td>0.571907</td>\n",
       "      <td>1.300713</td>\n",
       "      <td>0.192231</td>\n",
       "      <td>-0.375949</td>\n",
       "      <td>-0.518875</td>\n",
       "      <td>0.054095</td>\n",
       "      <td>0.478992</td>\n",
       "      <td>-0.754280</td>\n",
       "      <td>1.271521</td>\n",
       "      <td>-0.675719</td>\n",
       "    </tr>\n",
       "    <tr>\n",
       "      <th>690</th>\n",
       "      <td>1.492796</td>\n",
       "      <td>0.571907</td>\n",
       "      <td>-0.841893</td>\n",
       "      <td>1.677621</td>\n",
       "      <td>0.825554</td>\n",
       "      <td>-0.518875</td>\n",
       "      <td>-1.568766</td>\n",
       "      <td>-1.173007</td>\n",
       "      <td>1.325768</td>\n",
       "      <td>0.744515</td>\n",
       "      <td>-0.675719</td>\n",
       "    </tr>\n",
       "    <tr>\n",
       "      <th>691</th>\n",
       "      <td>0.203020</td>\n",
       "      <td>0.571907</td>\n",
       "      <td>1.300713</td>\n",
       "      <td>0.251646</td>\n",
       "      <td>0.272481</td>\n",
       "      <td>-0.518875</td>\n",
       "      <td>1.676957</td>\n",
       "      <td>-0.543674</td>\n",
       "      <td>1.325768</td>\n",
       "      <td>0.849916</td>\n",
       "      <td>-0.675719</td>\n",
       "    </tr>\n",
       "    <tr>\n",
       "      <th>692</th>\n",
       "      <td>-0.764311</td>\n",
       "      <td>0.571907</td>\n",
       "      <td>-0.841893</td>\n",
       "      <td>-0.817835</td>\n",
       "      <td>-0.128020</td>\n",
       "      <td>-0.518875</td>\n",
       "      <td>0.054095</td>\n",
       "      <td>-0.543674</td>\n",
       "      <td>-0.754280</td>\n",
       "      <td>-0.836503</td>\n",
       "      <td>-0.675719</td>\n",
       "    </tr>\n",
       "  </tbody>\n",
       "</table>\n",
       "<p>693 rows × 11 columns</p>\n",
       "</div>"
      ],
      "text/plain": [
       "          Age       Sex  ChestPainType  RestingBP  Cholesterol  FastingBS  \\\n",
       "0    0.632945  0.571907       2.372017   1.677621     0.701590  -0.518875   \n",
       "1   -2.591493  0.571907       0.229410   0.489309     0.606232  -0.518875   \n",
       "2   -1.731643  0.571907       1.300713  -0.817835     0.386910  -0.518875   \n",
       "3   -1.301718 -1.748536      -0.841893  -0.401926     0.158053  -0.518875   \n",
       "4    0.095539  0.571907      -0.841893  -0.104848    -1.901668   1.927248   \n",
       "..        ...       ...            ...        ...          ...        ...   \n",
       "688 -0.334386  0.571907      -0.841893   0.489309    -0.671557  -0.518875   \n",
       "689 -0.226905  0.571907       1.300713   0.192231    -0.375949  -0.518875   \n",
       "690  1.492796  0.571907      -0.841893   1.677621     0.825554  -0.518875   \n",
       "691  0.203020  0.571907       1.300713   0.251646     0.272481  -0.518875   \n",
       "692 -0.764311  0.571907      -0.841893  -0.817835    -0.128020  -0.518875   \n",
       "\n",
       "     RestingECG     MaxHR  ExerciseAngina   Oldpeak  ST_Slope  \n",
       "0     -1.568766 -0.504341       -0.754280 -0.836503  1.000877  \n",
       "1      0.054095  1.226326       -0.754280 -0.836503  1.000877  \n",
       "2     -1.568766  1.068992       -0.754280  0.217509 -0.675719  \n",
       "3      0.054095 -0.819007       -0.754280 -0.836503  1.000877  \n",
       "4      0.054095 -1.094340        1.325768  2.325533 -0.675719  \n",
       "..          ...       ...             ...       ...       ...  \n",
       "688    0.054095 -0.111007       -0.754280 -0.836503  1.000877  \n",
       "689    0.054095  0.478992       -0.754280  1.271521 -0.675719  \n",
       "690   -1.568766 -1.173007        1.325768  0.744515 -0.675719  \n",
       "691    1.676957 -0.543674        1.325768  0.849916 -0.675719  \n",
       "692    0.054095 -0.543674       -0.754280 -0.836503 -0.675719  \n",
       "\n",
       "[693 rows x 11 columns]"
      ]
     },
     "execution_count": 58,
     "metadata": {},
     "output_type": "execute_result"
    }
   ],
   "source": [
    "X_train_df = pd.DataFrame(X_train, columns=columns)\n",
    "X_test_df = pd.DataFrame(X_test, columns=columns)\n",
    "X_train_df"
   ]
  },
  {
   "cell_type": "code",
   "execution_count": 59,
   "id": "8b6c1acc-d0b7-4869-b3fb-fd7df5411c84",
   "metadata": {},
   "outputs": [
    {
     "name": "stdout",
     "output_type": "stream",
     "text": [
      "Ranked Features Based on Chi-Squared Statistic:\n",
      "           Feature  Chi2_Statistic\n",
      "0      Cholesterol      355.516735\n",
      "1         ST_Slope      354.499328\n",
      "2          Oldpeak      307.191978\n",
      "3   ExerciseAngina      276.000290\n",
      "4            MaxHR      263.134342\n",
      "5    ChestPainType      261.855500\n",
      "6              Age      134.420900\n",
      "7              Sex      116.094083\n",
      "8        RestingBP      106.710645\n",
      "9        FastingBS       88.880769\n",
      "10      RestingECG       19.595972\n"
     ]
    }
   ],
   "source": [
    "chi2_df = pd.DataFrame(chi2_results.items(), columns=['Feature', 'Chi2_Statistic'])\n",
    "chi2_df = chi2_df.sort_values(by='Chi2_Statistic', ascending=False).reset_index(drop=True)\n",
    "print(\"Ranked Features Based on Chi-Squared Statistic:\")\n",
    "print(chi2_df)"
   ]
  },
  {
   "cell_type": "code",
   "execution_count": 60,
   "id": "4a032c32-7eef-4ec7-acc5-324a8b830028",
   "metadata": {},
   "outputs": [],
   "source": [
    "def model_naive(X_train, y_train, X_test, y_test, features):\n",
    "    if features:\n",
    "        # Check if the features exist in X_train and X_test\n",
    "        valid_features = [feature for feature in features if feature in X_train.columns]\n",
    "        \n",
    "        if not valid_features:\n",
    "            raise ValueError(\"None of the selected features exist in the DataFrame columns.\")\n",
    "        \n",
    "        X_train = X_train[valid_features]\n",
    "        X_test = X_test[valid_features]\n",
    "    \n",
    "    model = GaussianNB()\n",
    "    model.fit(X_train, y_train)\n",
    "    predictions = model.predict(X_test)\n",
    "    accuracy = accuracy_score(y_test, predictions)\n",
    "    \n",
    "    print(f\"Accuracy with features {valid_features}: {accuracy}\")\n",
    "    print()"
   ]
  },
  {
   "cell_type": "code",
   "execution_count": 61,
   "id": "4ebe5e06-22f2-4653-aa5b-a026c2783270",
   "metadata": {},
   "outputs": [
    {
     "name": "stdout",
     "output_type": "stream",
     "text": [
      "Top 1 Features: ['Cholesterol']\n",
      "Accuracy with features ['Cholesterol']: 0.6397306397306397\n",
      "\n",
      "Top 2 Features: ['Cholesterol', 'ST_Slope']\n",
      "Accuracy with features ['Cholesterol', 'ST_Slope']: 0.8181818181818182\n",
      "\n",
      "Top 3 Features: ['Cholesterol', 'ST_Slope', 'Oldpeak']\n",
      "Accuracy with features ['Cholesterol', 'ST_Slope', 'Oldpeak']: 0.7845117845117845\n",
      "\n",
      "Top 4 Features: ['Cholesterol', 'ST_Slope', 'Oldpeak', 'ExerciseAngina']\n",
      "Accuracy with features ['Cholesterol', 'ST_Slope', 'Oldpeak', 'ExerciseAngina']: 0.8047138047138047\n",
      "\n",
      "Top 5 Features: ['Cholesterol', 'ST_Slope', 'Oldpeak', 'ExerciseAngina', 'MaxHR']\n",
      "Accuracy with features ['Cholesterol', 'ST_Slope', 'Oldpeak', 'ExerciseAngina', 'MaxHR']: 0.835016835016835\n",
      "\n",
      "Top 6 Features: ['Cholesterol', 'ST_Slope', 'Oldpeak', 'ExerciseAngina', 'MaxHR', 'ChestPainType']\n",
      "Accuracy with features ['Cholesterol', 'ST_Slope', 'Oldpeak', 'ExerciseAngina', 'MaxHR', 'ChestPainType']: 0.8383838383838383\n",
      "\n",
      "Top 7 Features: ['Cholesterol', 'ST_Slope', 'Oldpeak', 'ExerciseAngina', 'MaxHR', 'ChestPainType', 'Age']\n",
      "Accuracy with features ['Cholesterol', 'ST_Slope', 'Oldpeak', 'ExerciseAngina', 'MaxHR', 'ChestPainType', 'Age']: 0.8249158249158249\n",
      "\n",
      "Top 8 Features: ['Cholesterol', 'ST_Slope', 'Oldpeak', 'ExerciseAngina', 'MaxHR', 'ChestPainType', 'Age', 'Sex']\n",
      "Accuracy with features ['Cholesterol', 'ST_Slope', 'Oldpeak', 'ExerciseAngina', 'MaxHR', 'ChestPainType', 'Age', 'Sex']: 0.8585858585858586\n",
      "\n",
      "Top 9 Features: ['Cholesterol', 'ST_Slope', 'Oldpeak', 'ExerciseAngina', 'MaxHR', 'ChestPainType', 'Age', 'Sex', 'RestingBP']\n",
      "Accuracy with features ['Cholesterol', 'ST_Slope', 'Oldpeak', 'ExerciseAngina', 'MaxHR', 'ChestPainType', 'Age', 'Sex', 'RestingBP']: 0.8518518518518519\n",
      "\n"
     ]
    }
   ],
   "source": [
    "for i in range(1, 10):\n",
    "    top_features = chi2_df.head(i)['Feature'].tolist()\n",
    "    print(f\"Top {i} Features: {top_features}\")\n",
    "    model_naive(X_train_df, y_train, X_test_df, y_test, top_features)\n"
   ]
  },
  {
   "cell_type": "markdown",
   "id": "1cf90d43-5464-4037-8b72-02e37f291768",
   "metadata": {},
   "source": [
    "### Now let us perform Deep Learning"
   ]
  },
  {
   "cell_type": "code",
   "execution_count": 62,
   "id": "e0165fda-d5ab-493f-bfaf-e5040264bf43",
   "metadata": {},
   "outputs": [
    {
     "name": "stdout",
     "output_type": "stream",
     "text": [
      "WARNING:tensorflow:From C:\\Users\\User\\AppData\\Local\\Programs\\Python\\Python310\\lib\\site-packages\\keras\\src\\losses.py:2976: The name tf.losses.sparse_softmax_cross_entropy is deprecated. Please use tf.compat.v1.losses.sparse_softmax_cross_entropy instead.\n",
      "\n"
     ]
    },
    {
     "name": "stderr",
     "output_type": "stream",
     "text": [
      "C:\\Dev-Cpp\\mingw32\\bin\\ipykernel_13968\\372692519.py:8: DeprecationWarning: `import kerastuner` is deprecated, please use `import keras_tuner`.\n",
      "  from kerastuner import RandomSearch\n"
     ]
    }
   ],
   "source": [
    "import numpy as np\n",
    "import pandas as pd\n",
    "from sklearn.model_selection import train_test_split\n",
    "from sklearn.preprocessing import StandardScaler\n",
    "from sklearn.metrics import accuracy_score, confusion_matrix\n",
    "import tensorflow as tf\n",
    "from tensorflow import keras\n",
    "from kerastuner import RandomSearch\n",
    "from kerastuner.engine.hyperparameters import HyperParameters"
   ]
  },
  {
   "cell_type": "code",
   "execution_count": 63,
   "id": "3eef16c4-dcfb-4acb-b72c-9081f70f23a4",
   "metadata": {},
   "outputs": [],
   "source": [
    "X_train, X_test, y_train, y_test = train_test_split(X_scaled,y,test_size=0.36,random_state=42)"
   ]
  },
  {
   "cell_type": "code",
   "execution_count": 64,
   "id": "bc9b5b19-7218-47b3-b8a7-c41684d60eb6",
   "metadata": {},
   "outputs": [],
   "source": [
    "def build_model(hp):\n",
    "    model = keras.Sequential()\n",
    "    model.add(keras.layers.Dense(units=hp.Int('units', min_value=32, max_value=512, step=32),\n",
    "                                 activation='relu', input_shape=(X_train.shape[1],)))\n",
    "    model.add(keras.layers.Dense(units=hp.Int('units_2', min_value=32, max_value=256, step=32),\n",
    "                                 activation='relu'))\n",
    "    model.add(keras.layers.Dense(1, activation='sigmoid'))\n",
    "    \n",
    "    model.compile(optimizer=keras.optimizers.Adam(hp.Choice('learning_rate', values=[1e-2, 1e-3, 1e-4])),\n",
    "                  loss='binary_crossentropy',\n",
    "                  metrics=['accuracy'])\n",
    "    return model"
   ]
  },
  {
   "cell_type": "code",
   "execution_count": 65,
   "id": "b7bf65f1-0a54-4180-a0d5-dc10dc35763d",
   "metadata": {},
   "outputs": [
    {
     "name": "stdout",
     "output_type": "stream",
     "text": [
      "Reloading Tuner from my_dir\\heart_disease_tuning\\tuner0.json\n"
     ]
    }
   ],
   "source": [
    "tuner = RandomSearch(\n",
    "    build_model,\n",
    "    objective='val_accuracy',\n",
    "    max_trials=10,\n",
    "    executions_per_trial=3,\n",
    "    directory='my_dir',\n",
    "    project_name='heart_disease_tuning'\n",
    ")\n"
   ]
  },
  {
   "cell_type": "code",
   "execution_count": 66,
   "id": "09b15b57-164d-47c4-ad26-5eaf6b1dc41c",
   "metadata": {},
   "outputs": [],
   "source": [
    "tuner.search(X_train, y_train, epochs=50, validation_split=0.2)"
   ]
  },
  {
   "cell_type": "code",
   "execution_count": 67,
   "id": "8dd528b5-2ed6-4104-accf-b4b5e96c9a57",
   "metadata": {},
   "outputs": [
    {
     "name": "stdout",
     "output_type": "stream",
     "text": [
      "WARNING:tensorflow:From C:\\Users\\User\\AppData\\Local\\Programs\\Python\\Python310\\lib\\site-packages\\keras\\src\\backend.py:277: The name tf.reset_default_graph is deprecated. Please use tf.compat.v1.reset_default_graph instead.\n",
      "\n",
      "WARNING:tensorflow:From C:\\Users\\User\\AppData\\Local\\Programs\\Python\\Python310\\lib\\site-packages\\keras\\src\\saving\\legacy\\save.py:538: The name tf.train.NewCheckpointReader is deprecated. Please use tf.compat.v1.train.NewCheckpointReader instead.\n",
      "\n"
     ]
    }
   ],
   "source": [
    "best_model = tuner.get_best_models(num_models=1)[0]"
   ]
  },
  {
   "cell_type": "code",
   "execution_count": 68,
   "id": "918cfc48-d389-403b-b502-bcdc2ab462db",
   "metadata": {},
   "outputs": [
    {
     "name": "stdout",
     "output_type": "stream",
     "text": [
      "12/12 [==============================] - 0s 5ms/step\n",
      "Accuracy: 0.8711484593837535\n",
      "Confusion Matrix:\n",
      "[[161  21]\n",
      " [ 25 150]]\n"
     ]
    }
   ],
   "source": [
    "y_pred = (best_model.predict(X_test) > 0.5).astype(int)\n",
    "accuracy = accuracy_score(y_test, y_pred)\n",
    "conf_matrix = confusion_matrix(y_test, y_pred)\n",
    "\n",
    "print(f\"Accuracy: {accuracy}\")\n",
    "print(\"Confusion Matrix:\")\n",
    "print(conf_matrix)"
   ]
  },
  {
   "cell_type": "code",
   "execution_count": 69,
   "id": "095709e3-8852-41c5-8250-205567a678a0",
   "metadata": {},
   "outputs": [],
   "source": [
    "def build_naive_bayes_nn(input_shape, num_classes):\n",
    "    inputs = keras.Input(shape=input_shape)\n",
    "    x = keras.layers.Dense(num_classes, activation='softmax', use_bias=False)(inputs)\n",
    "    model = keras.Model(inputs=inputs, outputs=x)\n",
    "    return model"
   ]
  },
  {
   "cell_type": "code",
   "execution_count": 71,
   "id": "fd3af097-a395-4b91-aa95-1e0e38dbc8b7",
   "metadata": {},
   "outputs": [
    {
     "name": "stderr",
     "output_type": "stream",
     "text": [
      "C:\\Users\\User\\AppData\\Local\\Programs\\Python\\Python310\\lib\\site-packages\\keras\\src\\engine\\data_adapter.py:1808: FutureWarning: The behavior of `series[i:j]` with an integer-dtype index is deprecated. In a future version, this will be treated as *label-based* indexing, consistent with e.g. `series[i]` lookups. To retain the old behavior, use `series.iloc[i:j]`. To get the future behavior, use `series.loc[i:j]`.\n",
      "  return t[start:end]\n"
     ]
    },
    {
     "name": "stdout",
     "output_type": "stream",
     "text": [
      "WARNING:tensorflow:From C:\\Users\\User\\AppData\\Local\\Programs\\Python\\Python310\\lib\\site-packages\\keras\\src\\utils\\tf_utils.py:492: The name tf.ragged.RaggedTensorValue is deprecated. Please use tf.compat.v1.ragged.RaggedTensorValue instead.\n",
      "\n",
      "WARNING:tensorflow:From C:\\Users\\User\\AppData\\Local\\Programs\\Python\\Python310\\lib\\site-packages\\keras\\src\\engine\\base_layer_utils.py:384: The name tf.executing_eagerly_outside_functions is deprecated. Please use tf.compat.v1.executing_eagerly_outside_functions instead.\n",
      "\n"
     ]
    }
   ],
   "source": [
    "num_classes = len(np.unique(y))\n",
    "model = build_naive_bayes_nn(X_train.shape[1:], num_classes)\n",
    "model.compile(optimizer='adam', loss='sparse_categorical_crossentropy', metrics=['accuracy'])\n",
    "\n",
    "# Train the model\n",
    "history = model.fit(X_train, y_train, epochs=100, batch_size=32, validation_split=0.2, verbose=0)"
   ]
  },
  {
   "cell_type": "code",
   "execution_count": 73,
   "id": "7157ca9f-d2b3-4c21-ab74-a322213d67ac",
   "metadata": {},
   "outputs": [
    {
     "name": "stdout",
     "output_type": "stream",
     "text": [
      "12/12 [==============================] - 0s 2ms/step\n",
      "Accuracy: 0.8515406162464986\n",
      "Confusion Matrix:\n",
      "[[159  23]\n",
      " [ 30 145]]\n"
     ]
    }
   ],
   "source": [
    "y_pred = np.argmax(model.predict(X_test), axis=1)\n",
    "accuracy = accuracy_score(y_test, y_pred)\n",
    "conf_matrix = confusion_matrix(y_test, y_pred)\n",
    "\n",
    "print(f\"Accuracy: {accuracy}\")\n",
    "print(\"Confusion Matrix:\")\n",
    "print(conf_matrix)"
   ]
  },
  {
   "cell_type": "code",
   "execution_count": 74,
   "id": "7d342812-b236-44e6-b1d6-2735a65fb01b",
   "metadata": {},
   "outputs": [],
   "source": [
    "def build_decision_tree_nn(input_shape, num_classes):\n",
    "    inputs = keras.Input(shape=input_shape)\n",
    "    x = keras.layers.Dense(64, activation='relu')(inputs)\n",
    "    x = keras.layers.Dense(32, activation='relu')(x)\n",
    "    outputs = keras.layers.Dense(num_classes, activation='softmax')(x)\n",
    "    model = keras.Model(inputs=inputs, outputs=outputs)\n",
    "    return model"
   ]
  },
  {
   "cell_type": "code",
   "execution_count": 75,
   "id": "e38d373c-cd1c-4474-8e49-890e6cbcd012",
   "metadata": {},
   "outputs": [],
   "source": [
    "num_trees = 10\n",
    "num_classes = len(np.unique(y))\n",
    "models = [build_decision_tree_nn(X_train.shape[1:], num_classes) for _ in range(num_trees)]"
   ]
  },
  {
   "cell_type": "code",
   "execution_count": 76,
   "id": "c4e2b878-c5f3-496c-8bf2-231ac17b3513",
   "metadata": {},
   "outputs": [],
   "source": [
    "for model in models:\n",
    "    model.compile(optimizer='adam', loss='sparse_categorical_crossentropy', metrics=['accuracy'])"
   ]
  },
  {
   "cell_type": "code",
   "execution_count": 77,
   "id": "bf65cfd2-beee-459f-8d7e-8285b97f4b9b",
   "metadata": {},
   "outputs": [
    {
     "name": "stdout",
     "output_type": "stream",
     "text": [
      "Training tree 1/10\n"
     ]
    },
    {
     "name": "stderr",
     "output_type": "stream",
     "text": [
      "C:\\Users\\User\\AppData\\Local\\Programs\\Python\\Python310\\lib\\site-packages\\keras\\src\\engine\\data_adapter.py:1808: FutureWarning: The behavior of `series[i:j]` with an integer-dtype index is deprecated. In a future version, this will be treated as *label-based* indexing, consistent with e.g. `series[i]` lookups. To retain the old behavior, use `series.iloc[i:j]`. To get the future behavior, use `series.loc[i:j]`.\n",
      "  return t[start:end]\n"
     ]
    },
    {
     "name": "stdout",
     "output_type": "stream",
     "text": [
      "Training tree 2/10\n",
      "Training tree 3/10\n",
      "Training tree 4/10\n",
      "Training tree 5/10\n",
      "Training tree 6/10\n",
      "Training tree 7/10\n",
      "Training tree 8/10\n",
      "Training tree 9/10\n",
      "Training tree 10/10\n"
     ]
    }
   ],
   "source": [
    "for i, model in enumerate(models):\n",
    "    print(f\"Training tree {i+1}/{num_trees}\")\n",
    "    model.fit(X_train, y_train, epochs=50, batch_size=32, validation_split=0.2, verbose=0)"
   ]
  },
  {
   "cell_type": "code",
   "execution_count": 78,
   "id": "0528584a-58be-472c-a254-4c52b18fa64f",
   "metadata": {},
   "outputs": [
    {
     "name": "stdout",
     "output_type": "stream",
     "text": [
      "12/12 [==============================] - 0s 3ms/step\n",
      "12/12 [==============================] - 0s 3ms/step\n",
      "12/12 [==============================] - 0s 3ms/step\n",
      "12/12 [==============================] - 0s 3ms/step\n",
      "12/12 [==============================] - 0s 3ms/step\n",
      "12/12 [==============================] - 0s 2ms/step\n",
      "12/12 [==============================] - 0s 3ms/step\n",
      "12/12 [==============================] - 0s 3ms/step\n",
      "12/12 [==============================] - 0s 3ms/step\n",
      "12/12 [==============================] - 0s 3ms/step\n"
     ]
    }
   ],
   "source": [
    "y_pred_proba = np.mean([model.predict(X_test) for model in models], axis=0)\n",
    "y_pred = np.argmax(y_pred_proba, axis=1)"
   ]
  },
  {
   "cell_type": "code",
   "execution_count": 79,
   "id": "49ab6f40-791e-4aae-999f-568741dd6462",
   "metadata": {},
   "outputs": [
    {
     "name": "stdout",
     "output_type": "stream",
     "text": [
      "Accuracy: 0.8795518207282913\n",
      "Confusion Matrix:\n",
      "[[158  24]\n",
      " [ 19 156]]\n"
     ]
    }
   ],
   "source": [
    "accuracy = accuracy_score(y_test, y_pred)\n",
    "conf_matrix = confusion_matrix(y_test, y_pred)\n",
    "\n",
    "print(f\"Accuracy: {accuracy}\")\n",
    "print(\"Confusion Matrix:\")\n",
    "print(conf_matrix)"
   ]
  },
  {
   "cell_type": "code",
   "execution_count": null,
   "id": "02f0d744-d36c-404b-aadb-497ed9b07a7f",
   "metadata": {},
   "outputs": [],
   "source": []
  }
 ],
 "metadata": {
  "kernelspec": {
   "display_name": "Python 3 (ipykernel)",
   "language": "python",
   "name": "python3"
  },
  "language_info": {
   "codemirror_mode": {
    "name": "ipython",
    "version": 3
   },
   "file_extension": ".py",
   "mimetype": "text/x-python",
   "name": "python",
   "nbconvert_exporter": "python",
   "pygments_lexer": "ipython3",
   "version": "3.10.7"
  }
 },
 "nbformat": 4,
 "nbformat_minor": 5
}
